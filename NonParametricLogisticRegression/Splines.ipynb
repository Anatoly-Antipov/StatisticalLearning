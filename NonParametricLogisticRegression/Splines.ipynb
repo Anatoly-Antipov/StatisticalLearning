{
 "cells": [
  {
   "cell_type": "code",
   "execution_count": 3,
   "metadata": {},
   "outputs": [],
   "source": [
    "import numpy as np\n",
    "import pandas as pd\n",
    "import random\n",
    "import matplotlib.pyplot as plt\n",
    "import copy\n",
    "\n",
    "from sklearn.linear_model import LinearRegression, Ridge, Lasso"
   ]
  },
  {
   "cell_type": "code",
   "execution_count": 2,
   "metadata": {},
   "outputs": [],
   "source": [
    "n = 50\n",
    "e = np.array([random.normalvariate(0,0.5) for i in range(n)]).reshape(-1,1)\n",
    "x = np.linspace(0,10,n).reshape(-1,1)\n",
    "y = np.cos(x)+e\n",
    "\n",
    "knots = np.array([2,4,6,7])"
   ]
  },
  {
   "cell_type": "code",
   "execution_count": 3,
   "metadata": {
    "scrolled": true
   },
   "outputs": [
    {
     "data": {
      "text/plain": [
       "<matplotlib.collections.PathCollection at 0x15d5447ee10>"
      ]
     },
     "execution_count": 3,
     "metadata": {},
     "output_type": "execute_result"
    },
    {
     "data": {
      "image/png": "[encoded data removed]",
      "text/plain": [
       "<Figure size 432x288 with 1 Axes>"
      ]
     },
     "metadata": {
      "needs_background": "light"
     },
     "output_type": "display_data"
    }
   ],
   "source": [
    "plt.scatter(x,y,color='red')"
   ]
  },
  {
   "cell_type": "markdown",
   "metadata": {},
   "source": [
    "#### Spline with constants"
   ]
  },
  {
   "cell_type": "code",
   "execution_count": 4,
   "metadata": {},
   "outputs": [],
   "source": [
    "X_ = (x < knots[0]).astype('float')\n",
    "X = np.hstack((x,X_))\n",
    "\n",
    "for i in range(len(knots)-1):\n",
    "    X_ = ( (x.reshape(-1,1) >= knots[i])&(x < knots[i+1]) ).astype('float')\n",
    "    X = np.hstack((X,X_))\n",
    "\n",
    "X_ = (x > knots[len(knots)-1]).astype('float')\n",
    "X = np.hstack((X,X_))\n",
    "X = X[:,1:]"
   ]
  },
  {
   "cell_type": "code",
   "execution_count": 5,
   "metadata": {
    "scrolled": true
   },
   "outputs": [
    {
     "data": {
      "text/plain": [
       "[<matplotlib.lines.Line2D at 0x15d544c5630>]"
      ]
     },
     "execution_count": 5,
     "metadata": {},
     "output_type": "execute_result"
    },
    {
     "data": {
      "image/png": "[encoded data removed]",
      "text/plain": [
       "<Figure size 432x288 with 1 Axes>"
      ]
     },
     "metadata": {
      "needs_background": "light"
     },
     "output_type": "display_data"
    }
   ],
   "source": [
    "model = LinearRegression()\n",
    "\n",
    "model.fit(X,y)\n",
    "y_ = model.predict(X)\n",
    "\n",
    "plt.scatter(x.reshape(-1,1),y,color='red')\n",
    "plt.plot(x.reshape(-1,1),y_)"
   ]
  },
  {
   "cell_type": "markdown",
   "metadata": {},
   "source": [
    "#### 3-degree polynomial"
   ]
  },
  {
   "cell_type": "code",
   "execution_count": 6,
   "metadata": {},
   "outputs": [],
   "source": [
    "X = np.hstack((np.ones(shape=x.shape),x,np.power(x,2),np.power(x,3)))"
   ]
  },
  {
   "cell_type": "code",
   "execution_count": 7,
   "metadata": {
    "scrolled": true
   },
   "outputs": [
    {
     "data": {
      "text/plain": [
       "[<matplotlib.lines.Line2D at 0x15d544c5da0>]"
      ]
     },
     "execution_count": 7,
     "metadata": {},
     "output_type": "execute_result"
    },
    {
     "data": {
      "image/png": "[encoded data removed]",
      "text/plain": [
       "<Figure size 432x288 with 1 Axes>"
      ]
     },
     "metadata": {
      "needs_background": "light"
     },
     "output_type": "display_data"
    }
   ],
   "source": [
    "model = LinearRegression()\n",
    "\n",
    "model.fit(X,y)\n",
    "y_ = model.predict(X)\n",
    "\n",
    "plt.scatter(x.reshape(-1,1),y,color='red')\n",
    "plt.plot(x.reshape(-1,1),y_)"
   ]
  },
  {
   "cell_type": "markdown",
   "metadata": {},
   "source": [
    "#### Continuos Spline of n-th degree"
   ]
  },
  {
   "cell_type": "code",
   "execution_count": 8,
   "metadata": {},
   "outputs": [],
   "source": [
    "degree = 3"
   ]
  },
  {
   "cell_type": "code",
   "execution_count": 9,
   "metadata": {},
   "outputs": [],
   "source": [
    "knots = np.array([2,4,6,7])\n",
    "# knots = x.reshape(1,-1)[0]"
   ]
  },
  {
   "cell_type": "code",
   "execution_count": 10,
   "metadata": {},
   "outputs": [],
   "source": [
    "# X - for learning\n",
    "X = (np.ones(shape=x.shape))\n",
    "for deg in range(1,degree+1):\n",
    "    X = np.hstack((X,np.power(x,deg)))\n",
    "\n",
    "for i in range(len(knots)):\n",
    "    X_ = ( (x >= knots[i])*np.power(x-knots[i],degree) ).astype('float')\n",
    "    X = np.hstack((X,X_))"
   ]
  },
  {
   "cell_type": "code",
   "execution_count": 11,
   "metadata": {},
   "outputs": [
    {
     "data": {
      "text/plain": [
       "LinearRegression(copy_X=True, fit_intercept=True, n_jobs=None, normalize=False)"
      ]
     },
     "execution_count": 11,
     "metadata": {},
     "output_type": "execute_result"
    }
   ],
   "source": [
    "# Learning\n",
    "model = LinearRegression()\n",
    "model.fit(X,y)"
   ]
  },
  {
   "cell_type": "code",
   "execution_count": 12,
   "metadata": {},
   "outputs": [],
   "source": [
    "# X_pred - for prediction\n",
    "x_pred = np.linspace(0,10,1000).reshape(-1,1)\n",
    "\n",
    "X_pred = (np.ones(shape=x_pred.shape))\n",
    "for deg in range(1,degree+1):\n",
    "    X_pred = np.hstack((X_pred,np.power(x_pred,deg)))\n",
    "\n",
    "for i in range(len(knots)):\n",
    "    X_pred_ = ( (x_pred >= knots[i])*np.power(x_pred-knots[i],degree) ).astype('float')\n",
    "    X_pred = np.hstack((X_pred,X_pred_))"
   ]
  },
  {
   "cell_type": "code",
   "execution_count": 13,
   "metadata": {
    "scrolled": true
   },
   "outputs": [
    {
     "data": {
      "text/plain": [
       "[<matplotlib.lines.Line2D at 0x15d545dc7f0>]"
      ]
     },
     "execution_count": 13,
     "metadata": {},
     "output_type": "execute_result"
    },
    {
     "data": {
      "image/png": "[encoded data removed]",
      "text/plain": [
       "<Figure size 432x288 with 1 Axes>"
      ]
     },
     "metadata": {
      "needs_background": "light"
     },
     "output_type": "display_data"
    }
   ],
   "source": [
    "y_ = model.predict(X_pred)\n",
    "\n",
    "plt.scatter(x.reshape(-1,1),y,color='red')\n",
    "plt.plot(x_pred.reshape(-1,1),y_)"
   ]
  },
  {
   "cell_type": "markdown",
   "metadata": {},
   "source": [
    "#### Regularized Natural Cubic Spline"
   ]
  },
  {
   "cell_type": "code",
   "execution_count": 14,
   "metadata": {},
   "outputs": [],
   "source": [
    "# regularization parameter\n",
    "alpha = 100"
   ]
  },
  {
   "cell_type": "code",
   "execution_count": 15,
   "metadata": {},
   "outputs": [],
   "source": [
    "# knots = np.array([2,4,6,7])\n",
    "# knots = x.reshape(1,-1)[0]\n",
    "knots = x[10:x.shape[0]-10].reshape(1,-1)[0]"
   ]
  },
  {
   "cell_type": "code",
   "execution_count": 16,
   "metadata": {},
   "outputs": [],
   "source": [
    "def d(k,x):\n",
    "    return ( ((x >= knots[k-1])*np.power(x-knots[k-1],3)).astype('float') - ((x >= knots[len(knots)-1])*np.power(x-knots[len(knots)-1],3)).astype('float') )/\\\n",
    "    ( knots[k-1] - knots[len(knots)-1] )\n",
    "\n",
    "X = np.hstack((np.ones(shape=x.shape),x))\n",
    "\n",
    "for i in range(len(knots)-2):\n",
    "    X_ = d(i+1,x) - d(len(knots)-1,x)\n",
    "    X = np.hstack((X,X_))"
   ]
  },
  {
   "cell_type": "code",
   "execution_count": 17,
   "metadata": {},
   "outputs": [
    {
     "data": {
      "text/plain": [
       "Ridge(alpha=100, copy_X=True, fit_intercept=True, max_iter=None,\n",
       "      normalize=False, random_state=None, solver='auto', tol=0.001)"
      ]
     },
     "execution_count": 17,
     "metadata": {},
     "output_type": "execute_result"
    }
   ],
   "source": [
    "# model = LinearRegression()\n",
    "model = Ridge(alpha=alpha)\n",
    "# model = Lasso(alpha=alpha)\n",
    "\n",
    "model.fit(X,y)"
   ]
  },
  {
   "cell_type": "code",
   "execution_count": 18,
   "metadata": {
    "scrolled": true
   },
   "outputs": [],
   "source": [
    "# X_pred - for prediction\n",
    "x_pred = np.linspace(0,10,1000).reshape(-1,1)\n",
    "\n",
    "X_pred = np.hstack((np.ones(shape=x_pred.shape),x_pred))\n",
    "\n",
    "for i in range(len(knots)-2):\n",
    "    X_pred_ = d(i+1,x_pred) - d(len(knots)-1,x_pred)\n",
    "    X_pred = np.hstack((X_pred,X_pred_))"
   ]
  },
  {
   "cell_type": "code",
   "execution_count": 19,
   "metadata": {},
   "outputs": [
    {
     "data": {
      "text/plain": [
       "[<matplotlib.lines.Line2D at 0x15d54656940>]"
      ]
     },
     "execution_count": 19,
     "metadata": {},
     "output_type": "execute_result"
    },
    {
     "data": {
      "image/png": "[encoded data removed]",
      "text/plain": [
       "<Figure size 432x288 with 1 Axes>"
      ]
     },
     "metadata": {
      "needs_background": "light"
     },
     "output_type": "display_data"
    }
   ],
   "source": [
    "y_ = model.predict(X_pred)\n",
    "\n",
    "plt.scatter(x.reshape(-1,1),y,color='red')\n",
    "plt.plot(x_pred.reshape(-1,1),y_)"
   ]
  },
  {
   "cell_type": "code",
   "execution_count": null,
   "metadata": {},
   "outputs": [],
   "source": []
  },
  {
   "cell_type": "markdown",
   "metadata": {},
   "source": [
    "## Class with Regularized Natural Cubic Spline"
   ]
  },
  {
   "cell_type": "code",
   "execution_count": 1,
   "metadata": {},
   "outputs": [],
   "source": [
    "import numpy as np\n",
    "import pandas as pd\n",
    "import random\n",
    "import matplotlib.pyplot as plt\n",
    "import copy\n",
    "\n",
    "from sklearn.linear_model import LinearRegression, Ridge, Lasso"
   ]
  },
  {
   "cell_type": "code",
   "execution_count": 2,
   "metadata": {},
   "outputs": [],
   "source": [
    "from Splines import Splines"
   ]
  },
  {
   "cell_type": "code",
   "execution_count": 3,
   "metadata": {},
   "outputs": [],
   "source": [
    "# initial parameters\n",
    "alpha = 0.1\n",
    "n = 500\n",
    "e = np.array([random.normalvariate(0,0.5) for i in range(n)]).reshape(-1,1)\n",
    "x = np.linspace(0,100,n).reshape(-1,1)\n",
    "y = np.cos(x)+e\n",
    "knots = np.array([10,12,13,14,15,16,17,18,19,20,21,40,60,80]).reshape(-1,1)\n",
    "\n",
    "# x_pred - for prediction\n",
    "x_pred = np.linspace(0,100,1000).reshape(-1,1)"
   ]
  },
  {
   "cell_type": "code",
   "execution_count": 5,
   "metadata": {},
   "outputs": [],
   "source": [
    "s2 = Splines(knots = knots)\n",
    "# s2 = Splines(knots = x)"
   ]
  },
  {
   "cell_type": "code",
   "execution_count": 6,
   "metadata": {},
   "outputs": [
    {
     "data": {
      "text/plain": [
       "[<matplotlib.lines.Line2D at 0x1dc40aaf5c0>]"
      ]
     },
     "execution_count": 6,
     "metadata": {},
     "output_type": "execute_result"
    },
    {
     "data": {
      "image/png": "[encoded data removed]",
      "text/plain": [
       "<Figure size 432x288 with 1 Axes>"
      ]
     },
     "metadata": {
      "needs_background": "light"
     },
     "output_type": "display_data"
    }
   ],
   "source": [
    "# results with knots=knots (s1)\n",
    "\n",
    "model = Ridge(alpha=alpha)\n",
    "# model = Lasso(alpha=alpha)\n",
    "\n",
    "model.fit(s1.N(x),y)\n",
    "\n",
    "y_ = model.predict(s1.N(x_pred))\n",
    "\n",
    "plt.scatter(x.reshape(-1,1),y,color='red')\n",
    "plt.plot(x_pred.reshape(-1,1),y_)"
   ]
  },
  {
   "cell_type": "code",
   "execution_count": 7,
   "metadata": {},
   "outputs": [
    {
     "data": {
      "text/plain": [
       "[<matplotlib.lines.Line2D at 0x1dc41e672e8>]"
      ]
     },
     "execution_count": 7,
     "metadata": {},
     "output_type": "execute_result"
    },
    {
     "data": {
      "image/png": "[encoded data removed]",
      "text/plain": [
       "<Figure size 432x288 with 1 Axes>"
      ]
     },
     "metadata": {
      "needs_background": "light"
     },
     "output_type": "display_data"
    }
   ],
   "source": [
    "# results with knots=x (s2)\n",
    "\n",
    "model = Ridge(alpha=alpha)\n",
    "# model = Lasso(alpha=alpha)\n",
    "\n",
    "model.fit(s2.N(x),y)\n",
    "\n",
    "y_ = model.predict(s2.N(x_pred))\n",
    "\n",
    "plt.scatter(x.reshape(-1,1),y,color='red')\n",
    "plt.plot(x_pred.reshape(-1,1),y_)"
   ]
  },
  {
   "cell_type": "code",
   "execution_count": 8,
   "metadata": {
    "scrolled": true
   },
   "outputs": [
    {
     "data": {
      "text/plain": [
       "array([[1.        , 0.        , 0.        ],\n",
       "       [1.        , 0.2004008 , 0.        ],\n",
       "       [1.        , 0.4008016 , 0.        ],\n",
       "       [1.        , 0.6012024 , 0.        ],\n",
       "       [1.        , 0.80160321, 0.        ],\n",
       "       [1.        , 1.00200401, 0.        ],\n",
       "       [1.        , 1.20240481, 0.        ],\n",
       "       [1.        , 1.40280561, 0.        ],\n",
       "       [1.        , 1.60320641, 0.        ],\n",
       "       [1.        , 1.80360721, 0.        ]])"
      ]
     },
     "execution_count": 8,
     "metadata": {},
     "output_type": "execute_result"
    }
   ],
   "source": [
    "s2.N(x)[:10,:3]"
   ]
  },
  {
   "cell_type": "code",
   "execution_count": 9,
   "metadata": {},
   "outputs": [
    {
     "data": {
      "text/plain": [
       "array([[  0.        ,   0.        ,   0.        ,   0.        ],\n",
       "       [  0.        ,   0.        ,   0.        ,   0.        ],\n",
       "       [  0.        ,   0.        , 428.57142857, 417.23697479],\n",
       "       [  0.        ,   0.        , 417.23697479, 406.58823529]])"
      ]
     },
     "execution_count": 9,
     "metadata": {},
     "output_type": "execute_result"
    }
   ],
   "source": [
    "s2.Omega()[0,:4,:4]"
   ]
  },
  {
   "cell_type": "code",
   "execution_count": 10,
   "metadata": {},
   "outputs": [
    {
     "data": {
      "text/plain": [
       "array([[330.68852459, 325.24590164, 319.62878577, 181.96721311],\n",
       "       [325.24590164, 320.        , 314.5779661 , 180.        ],\n",
       "       [319.62878577, 314.5779661 , 309.3559322 , 177.96610169],\n",
       "       [181.96721311, 180.        , 177.96610169, 120.        ]])"
      ]
     },
     "execution_count": 10,
     "metadata": {},
     "output_type": "execute_result"
    }
   ],
   "source": [
    "s2.Omega()[0,-4:,-4:]"
   ]
  },
  {
   "cell_type": "code",
   "execution_count": 11,
   "metadata": {},
   "outputs": [
    {
     "data": {
      "text/plain": [
       "(2, 14, 14)"
      ]
     },
     "execution_count": 11,
     "metadata": {},
     "output_type": "execute_result"
    }
   ],
   "source": [
    "s2.Omega().shape"
   ]
  },
  {
   "cell_type": "code",
   "execution_count": 12,
   "metadata": {},
   "outputs": [
    {
     "data": {
      "text/plain": [
       "(500, 26)"
      ]
     },
     "execution_count": 12,
     "metadata": {},
     "output_type": "execute_result"
    }
   ],
   "source": [
    "s2.N(x).shape"
   ]
  },
  {
   "cell_type": "code",
   "execution_count": 21,
   "metadata": {},
   "outputs": [
    {
     "data": {
      "text/plain": [
       "array([ 1.00000000e+00,  2.00400802e+01, -1.44581758e+01, -1.92228882e+01,\n",
       "       -7.64314719e+00, -1.08644547e+01, -5.20784452e+00, -7.75722402e+00,\n",
       "       -3.33875208e+00, -5.28675125e+00, -1.96969496e+00, -3.39011750e+00,\n",
       "       -1.03036233e+00, -2.00047145e+00, -4.45979151e-01, -1.04671729e+00,\n",
       "       -1.36946207e-01, -4.53172363e-01, -1.84446578e-02, -1.39191227e-01,\n",
       "       -1.07309235e-06, -1.87520687e-02,  0.00000000e+00, -1.09128036e-06,\n",
       "        0.00000000e+00,  0.00000000e+00])"
      ]
     },
     "execution_count": 21,
     "metadata": {},
     "output_type": "execute_result"
    }
   ],
   "source": [
    "s2.N(x)[100,:]"
   ]
  },
  {
   "cell_type": "code",
   "execution_count": 1,
   "metadata": {},
   "outputs": [],
   "source": [
    "import numpy as np"
   ]
  },
  {
   "cell_type": "code",
   "execution_count": 2,
   "metadata": {},
   "outputs": [],
   "source": [
    "a = np.arange(60.).reshape(3,4,5)\n",
    "b = np.arange(24.).reshape(4,3,2)\n",
    "c = np.tensordot(a,b, axes=([1,0],[0,1]))"
   ]
  },
  {
   "cell_type": "code",
   "execution_count": 3,
   "metadata": {},
   "outputs": [
    {
     "data": {
      "text/plain": [
       "array([[[ 0.,  1.,  2.,  3.,  4.],\n",
       "        [ 5.,  6.,  7.,  8.,  9.],\n",
       "        [10., 11., 12., 13., 14.],\n",
       "        [15., 16., 17., 18., 19.]],\n",
       "\n",
       "       [[20., 21., 22., 23., 24.],\n",
       "        [25., 26., 27., 28., 29.],\n",
       "        [30., 31., 32., 33., 34.],\n",
       "        [35., 36., 37., 38., 39.]],\n",
       "\n",
       "       [[40., 41., 42., 43., 44.],\n",
       "        [45., 46., 47., 48., 49.],\n",
       "        [50., 51., 52., 53., 54.],\n",
       "        [55., 56., 57., 58., 59.]]])"
      ]
     },
     "execution_count": 3,
     "metadata": {},
     "output_type": "execute_result"
    }
   ],
   "source": [
    "a"
   ]
  },
  {
   "cell_type": "code",
   "execution_count": 4,
   "metadata": {},
   "outputs": [
    {
     "data": {
      "text/plain": [
       "array([[[ 0.,  1.],\n",
       "        [ 2.,  3.],\n",
       "        [ 4.,  5.]],\n",
       "\n",
       "       [[ 6.,  7.],\n",
       "        [ 8.,  9.],\n",
       "        [10., 11.]],\n",
       "\n",
       "       [[12., 13.],\n",
       "        [14., 15.],\n",
       "        [16., 17.]],\n",
       "\n",
       "       [[18., 19.],\n",
       "        [20., 21.],\n",
       "        [22., 23.]]])"
      ]
     },
     "execution_count": 4,
     "metadata": {},
     "output_type": "execute_result"
    }
   ],
   "source": [
    "b"
   ]
  },
  {
   "cell_type": "code",
   "execution_count": null,
   "metadata": {},
   "outputs": [],
   "source": []
  },
  {
   "cell_type": "code",
   "execution_count": 5,
   "metadata": {},
   "outputs": [],
   "source": [
    "import numpy as np"
   ]
  },
  {
   "cell_type": "code",
   "execution_count": 6,
   "metadata": {},
   "outputs": [],
   "source": [
    "A = np.random.randint(10, size=(1,3,4,5))\n",
    "B = np.random.randint(10, size=(1,3,4,5))"
   ]
  },
  {
   "cell_type": "code",
   "execution_count": 7,
   "metadata": {},
   "outputs": [
    {
     "data": {
      "text/plain": [
       "array([[[[1, 3, 9, 0, 6],\n",
       "         [2, 2, 3, 9, 8],\n",
       "         [7, 3, 8, 7, 1],\n",
       "         [3, 8, 8, 0, 0]],\n",
       "\n",
       "        [[4, 5, 7, 3, 3],\n",
       "         [1, 3, 3, 4, 8],\n",
       "         [6, 8, 5, 4, 9],\n",
       "         [3, 2, 9, 8, 1]],\n",
       "\n",
       "        [[1, 0, 9, 5, 4],\n",
       "         [3, 3, 3, 1, 8],\n",
       "         [1, 7, 5, 8, 8],\n",
       "         [0, 8, 9, 4, 0]]]])"
      ]
     },
     "execution_count": 7,
     "metadata": {},
     "output_type": "execute_result"
    }
   ],
   "source": [
    "A"
   ]
  },
  {
   "cell_type": "code",
   "execution_count": 8,
   "metadata": {},
   "outputs": [
    {
     "data": {
      "text/plain": [
       "array([[[[3, 2, 5, 1, 6],\n",
       "         [1, 5, 1, 0, 1],\n",
       "         [6, 7, 5, 0, 8],\n",
       "         [4, 2, 0, 3, 4]],\n",
       "\n",
       "        [[4, 2, 1, 6, 1],\n",
       "         [6, 4, 9, 8, 1],\n",
       "         [4, 6, 3, 0, 5],\n",
       "         [5, 3, 5, 0, 4]],\n",
       "\n",
       "        [[0, 3, 6, 2, 8],\n",
       "         [6, 3, 1, 8, 2],\n",
       "         [3, 3, 2, 6, 1],\n",
       "         [2, 4, 8, 8, 0]]]])"
      ]
     },
     "execution_count": 8,
     "metadata": {},
     "output_type": "execute_result"
    }
   ],
   "source": [
    "B"
   ]
  },
  {
   "cell_type": "code",
   "execution_count": 6,
   "metadata": {},
   "outputs": [
    {
     "data": {
      "text/plain": [
       "(3, 4, 5, 3, 4, 5)"
      ]
     },
     "execution_count": 6,
     "metadata": {},
     "output_type": "execute_result"
    }
   ],
   "source": [
    "np.tensordot(A, B, axes=([0],[0])).shape"
   ]
  },
  {
   "cell_type": "code",
   "execution_count": 7,
   "metadata": {
    "scrolled": true
   },
   "outputs": [
    {
     "data": {
      "text/plain": [
       "array([[[[[[32, 12, 32, 16, 24],\n",
       "           [32, 28, 28,  8, 12],\n",
       "           [ 0,  4,  0,  0, 28],\n",
       "           [ 0, 24, 32,  4, 24]],\n",
       "\n",
       "          [[36, 36, 24, 28, 12],\n",
       "           [32, 24, 12, 32,  0],\n",
       "           [20,  0, 24, 28, 20],\n",
       "           [28, 32, 12, 36, 36]],\n",
       "\n",
       "          [[ 8, 24, 28,  4,  4],\n",
       "           [28, 28,  8, 16,  8],\n",
       "           [ 8, 20,  0, 16, 28],\n",
       "           [16, 20, 32, 32, 36]]],\n",
       "\n",
       "\n",
       "         [[[56, 21, 56, 28, 42],\n",
       "           [56, 49, 49, 14, 21],\n",
       "           [ 0,  7,  0,  0, 49],\n",
       "           [ 0, 42, 56,  7, 42]],\n",
       "\n",
       "          [[63, 63, 42, 49, 21],\n",
       "           [56, 42, 21, 56,  0],\n",
       "           [35,  0, 42, 49, 35],\n",
       "           [49, 56, 21, 63, 63]],\n",
       "\n",
       "          [[14, 42, 49,  7,  7],\n",
       "           [49, 49, 14, 28, 14],\n",
       "           [14, 35,  0, 28, 49],\n",
       "           [28, 35, 56, 56, 63]]],\n",
       "\n",
       "\n",
       "         [[[40, 15, 40, 20, 30],\n",
       "           [40, 35, 35, 10, 15],\n",
       "           [ 0,  5,  0,  0, 35],\n",
       "           [ 0, 30, 40,  5, 30]],\n",
       "\n",
       "          [[45, 45, 30, 35, 15],\n",
       "           [40, 30, 15, 40,  0],\n",
       "           [25,  0, 30, 35, 25],\n",
       "           [35, 40, 15, 45, 45]],\n",
       "\n",
       "          [[10, 30, 35,  5,  5],\n",
       "           [35, 35, 10, 20, 10],\n",
       "           [10, 25,  0, 20, 35],\n",
       "           [20, 25, 40, 40, 45]]],\n",
       "\n",
       "\n",
       "         [[[64, 24, 64, 32, 48],\n",
       "           [64, 56, 56, 16, 24],\n",
       "           [ 0,  8,  0,  0, 56],\n",
       "           [ 0, 48, 64,  8, 48]],\n",
       "\n",
       "          [[72, 72, 48, 56, 24],\n",
       "           [64, 48, 24, 64,  0],\n",
       "           [40,  0, 48, 56, 40],\n",
       "           [56, 64, 24, 72, 72]],\n",
       "\n",
       "          [[16, 48, 56,  8,  8],\n",
       "           [56, 56, 16, 32, 16],\n",
       "           [16, 40,  0, 32, 56],\n",
       "           [32, 40, 64, 64, 72]]],\n",
       "\n",
       "\n",
       "         [[[64, 24, 64, 32, 48],\n",
       "           [64, 56, 56, 16, 24],\n",
       "           [ 0,  8,  0,  0, 56],\n",
       "           [ 0, 48, 64,  8, 48]],\n",
       "\n",
       "          [[72, 72, 48, 56, 24],\n",
       "           [64, 48, 24, 64,  0],\n",
       "           [40,  0, 48, 56, 40],\n",
       "           [56, 64, 24, 72, 72]],\n",
       "\n",
       "          [[16, 48, 56,  8,  8],\n",
       "           [56, 56, 16, 32, 16],\n",
       "           [16, 40,  0, 32, 56],\n",
       "           [32, 40, 64, 64, 72]]]],\n",
       "\n",
       "\n",
       "\n",
       "        [[[[24,  9, 24, 12, 18],\n",
       "           [24, 21, 21,  6,  9],\n",
       "           [ 0,  3,  0,  0, 21],\n",
       "           [ 0, 18, 24,  3, 18]],\n",
       "\n",
       "          [[27, 27, 18, 21,  9],\n",
       "           [24, 18,  9, 24,  0],\n",
       "           [15,  0, 18, 21, 15],\n",
       "           [21, 24,  9, 27, 27]],\n",
       "\n",
       "          [[ 6, 18, 21,  3,  3],\n",
       "           [21, 21,  6, 12,  6],\n",
       "           [ 6, 15,  0, 12, 21],\n",
       "           [12, 15, 24, 24, 27]]],\n",
       "\n",
       "\n",
       "         [[[24,  9, 24, 12, 18],\n",
       "           [24, 21, 21,  6,  9],\n",
       "           [ 0,  3,  0,  0, 21],\n",
       "           [ 0, 18, 24,  3, 18]],\n",
       "\n",
       "          [[27, 27, 18, 21,  9],\n",
       "           [24, 18,  9, 24,  0],\n",
       "           [15,  0, 18, 21, 15],\n",
       "           [21, 24,  9, 27, 27]],\n",
       "\n",
       "          [[ 6, 18, 21,  3,  3],\n",
       "           [21, 21,  6, 12,  6],\n",
       "           [ 6, 15,  0, 12, 21],\n",
       "           [12, 15, 24, 24, 27]]],\n",
       "\n",
       "\n",
       "         [[[24,  9, 24, 12, 18],\n",
       "           [24, 21, 21,  6,  9],\n",
       "           [ 0,  3,  0,  0, 21],\n",
       "           [ 0, 18, 24,  3, 18]],\n",
       "\n",
       "          [[27, 27, 18, 21,  9],\n",
       "           [24, 18,  9, 24,  0],\n",
       "           [15,  0, 18, 21, 15],\n",
       "           [21, 24,  9, 27, 27]],\n",
       "\n",
       "          [[ 6, 18, 21,  3,  3],\n",
       "           [21, 21,  6, 12,  6],\n",
       "           [ 6, 15,  0, 12, 21],\n",
       "           [12, 15, 24, 24, 27]]],\n",
       "\n",
       "\n",
       "         [[[32, 12, 32, 16, 24],\n",
       "           [32, 28, 28,  8, 12],\n",
       "           [ 0,  4,  0,  0, 28],\n",
       "           [ 0, 24, 32,  4, 24]],\n",
       "\n",
       "          [[36, 36, 24, 28, 12],\n",
       "           [32, 24, 12, 32,  0],\n",
       "           [20,  0, 24, 28, 20],\n",
       "           [28, 32, 12, 36, 36]],\n",
       "\n",
       "          [[ 8, 24, 28,  4,  4],\n",
       "           [28, 28,  8, 16,  8],\n",
       "           [ 8, 20,  0, 16, 28],\n",
       "           [16, 20, 32, 32, 36]]],\n",
       "\n",
       "\n",
       "         [[[56, 21, 56, 28, 42],\n",
       "           [56, 49, 49, 14, 21],\n",
       "           [ 0,  7,  0,  0, 49],\n",
       "           [ 0, 42, 56,  7, 42]],\n",
       "\n",
       "          [[63, 63, 42, 49, 21],\n",
       "           [56, 42, 21, 56,  0],\n",
       "           [35,  0, 42, 49, 35],\n",
       "           [49, 56, 21, 63, 63]],\n",
       "\n",
       "          [[14, 42, 49,  7,  7],\n",
       "           [49, 49, 14, 28, 14],\n",
       "           [14, 35,  0, 28, 49],\n",
       "           [28, 35, 56, 56, 63]]]],\n",
       "\n",
       "\n",
       "\n",
       "        [[[[32, 12, 32, 16, 24],\n",
       "           [32, 28, 28,  8, 12],\n",
       "           [ 0,  4,  0,  0, 28],\n",
       "           [ 0, 24, 32,  4, 24]],\n",
       "\n",
       "          [[36, 36, 24, 28, 12],\n",
       "           [32, 24, 12, 32,  0],\n",
       "           [20,  0, 24, 28, 20],\n",
       "           [28, 32, 12, 36, 36]],\n",
       "\n",
       "          [[ 8, 24, 28,  4,  4],\n",
       "           [28, 28,  8, 16,  8],\n",
       "           [ 8, 20,  0, 16, 28],\n",
       "           [16, 20, 32, 32, 36]]],\n",
       "\n",
       "\n",
       "         [[[16,  6, 16,  8, 12],\n",
       "           [16, 14, 14,  4,  6],\n",
       "           [ 0,  2,  0,  0, 14],\n",
       "           [ 0, 12, 16,  2, 12]],\n",
       "\n",
       "          [[18, 18, 12, 14,  6],\n",
       "           [16, 12,  6, 16,  0],\n",
       "           [10,  0, 12, 14, 10],\n",
       "           [14, 16,  6, 18, 18]],\n",
       "\n",
       "          [[ 4, 12, 14,  2,  2],\n",
       "           [14, 14,  4,  8,  4],\n",
       "           [ 4, 10,  0,  8, 14],\n",
       "           [ 8, 10, 16, 16, 18]]],\n",
       "\n",
       "\n",
       "         [[[48, 18, 48, 24, 36],\n",
       "           [48, 42, 42, 12, 18],\n",
       "           [ 0,  6,  0,  0, 42],\n",
       "           [ 0, 36, 48,  6, 36]],\n",
       "\n",
       "          [[54, 54, 36, 42, 18],\n",
       "           [48, 36, 18, 48,  0],\n",
       "           [30,  0, 36, 42, 30],\n",
       "           [42, 48, 18, 54, 54]],\n",
       "\n",
       "          [[12, 36, 42,  6,  6],\n",
       "           [42, 42, 12, 24, 12],\n",
       "           [12, 30,  0, 24, 42],\n",
       "           [24, 30, 48, 48, 54]]],\n",
       "\n",
       "\n",
       "         [[[56, 21, 56, 28, 42],\n",
       "           [56, 49, 49, 14, 21],\n",
       "           [ 0,  7,  0,  0, 49],\n",
       "           [ 0, 42, 56,  7, 42]],\n",
       "\n",
       "          [[63, 63, 42, 49, 21],\n",
       "           [56, 42, 21, 56,  0],\n",
       "           [35,  0, 42, 49, 35],\n",
       "           [49, 56, 21, 63, 63]],\n",
       "\n",
       "          [[14, 42, 49,  7,  7],\n",
       "           [49, 49, 14, 28, 14],\n",
       "           [14, 35,  0, 28, 49],\n",
       "           [28, 35, 56, 56, 63]]],\n",
       "\n",
       "\n",
       "         [[[24,  9, 24, 12, 18],\n",
       "           [24, 21, 21,  6,  9],\n",
       "           [ 0,  3,  0,  0, 21],\n",
       "           [ 0, 18, 24,  3, 18]],\n",
       "\n",
       "          [[27, 27, 18, 21,  9],\n",
       "           [24, 18,  9, 24,  0],\n",
       "           [15,  0, 18, 21, 15],\n",
       "           [21, 24,  9, 27, 27]],\n",
       "\n",
       "          [[ 6, 18, 21,  3,  3],\n",
       "           [21, 21,  6, 12,  6],\n",
       "           [ 6, 15,  0, 12, 21],\n",
       "           [12, 15, 24, 24, 27]]]],\n",
       "\n",
       "\n",
       "\n",
       "        [[[[48, 18, 48, 24, 36],\n",
       "           [48, 42, 42, 12, 18],\n",
       "           [ 0,  6,  0,  0, 42],\n",
       "           [ 0, 36, 48,  6, 36]],\n",
       "\n",
       "          [[54, 54, 36, 42, 18],\n",
       "           [48, 36, 18, 48,  0],\n",
       "           [30,  0, 36, 42, 30],\n",
       "           [42, 48, 18, 54, 54]],\n",
       "\n",
       "          [[12, 36, 42,  6,  6],\n",
       "           [42, 42, 12, 24, 12],\n",
       "           [12, 30,  0, 24, 42],\n",
       "           [24, 30, 48, 48, 54]]],\n",
       "\n",
       "\n",
       "         [[[24,  9, 24, 12, 18],\n",
       "           [24, 21, 21,  6,  9],\n",
       "           [ 0,  3,  0,  0, 21],\n",
       "           [ 0, 18, 24,  3, 18]],\n",
       "\n",
       "          [[27, 27, 18, 21,  9],\n",
       "           [24, 18,  9, 24,  0],\n",
       "           [15,  0, 18, 21, 15],\n",
       "           [21, 24,  9, 27, 27]],\n",
       "\n",
       "          [[ 6, 18, 21,  3,  3],\n",
       "           [21, 21,  6, 12,  6],\n",
       "           [ 6, 15,  0, 12, 21],\n",
       "           [12, 15, 24, 24, 27]]],\n",
       "\n",
       "\n",
       "         [[[16,  6, 16,  8, 12],\n",
       "           [16, 14, 14,  4,  6],\n",
       "           [ 0,  2,  0,  0, 14],\n",
       "           [ 0, 12, 16,  2, 12]],\n",
       "\n",
       "          [[18, 18, 12, 14,  6],\n",
       "           [16, 12,  6, 16,  0],\n",
       "           [10,  0, 12, 14, 10],\n",
       "           [14, 16,  6, 18, 18]],\n",
       "\n",
       "          [[ 4, 12, 14,  2,  2],\n",
       "           [14, 14,  4,  8,  4],\n",
       "           [ 4, 10,  0,  8, 14],\n",
       "           [ 8, 10, 16, 16, 18]]],\n",
       "\n",
       "\n",
       "         [[[32, 12, 32, 16, 24],\n",
       "           [32, 28, 28,  8, 12],\n",
       "           [ 0,  4,  0,  0, 28],\n",
       "           [ 0, 24, 32,  4, 24]],\n",
       "\n",
       "          [[36, 36, 24, 28, 12],\n",
       "           [32, 24, 12, 32,  0],\n",
       "           [20,  0, 24, 28, 20],\n",
       "           [28, 32, 12, 36, 36]],\n",
       "\n",
       "          [[ 8, 24, 28,  4,  4],\n",
       "           [28, 28,  8, 16,  8],\n",
       "           [ 8, 20,  0, 16, 28],\n",
       "           [16, 20, 32, 32, 36]]],\n",
       "\n",
       "\n",
       "         [[[64, 24, 64, 32, 48],\n",
       "           [64, 56, 56, 16, 24],\n",
       "           [ 0,  8,  0,  0, 56],\n",
       "           [ 0, 48, 64,  8, 48]],\n",
       "\n",
       "          [[72, 72, 48, 56, 24],\n",
       "           [64, 48, 24, 64,  0],\n",
       "           [40,  0, 48, 56, 40],\n",
       "           [56, 64, 24, 72, 72]],\n",
       "\n",
       "          [[16, 48, 56,  8,  8],\n",
       "           [56, 56, 16, 32, 16],\n",
       "           [16, 40,  0, 32, 56],\n",
       "           [32, 40, 64, 64, 72]]]]],\n",
       "\n",
       "\n",
       "\n",
       "\n",
       "       [[[[[64, 24, 64, 32, 48],\n",
       "           [64, 56, 56, 16, 24],\n",
       "           [ 0,  8,  0,  0, 56],\n",
       "           [ 0, 48, 64,  8, 48]],\n",
       "\n",
       "          [[72, 72, 48, 56, 24],\n",
       "           [64, 48, 24, 64,  0],\n",
       "           [40,  0, 48, 56, 40],\n",
       "           [56, 64, 24, 72, 72]],\n",
       "\n",
       "          [[16, 48, 56,  8,  8],\n",
       "           [56, 56, 16, 32, 16],\n",
       "           [16, 40,  0, 32, 56],\n",
       "           [32, 40, 64, 64, 72]]],\n",
       "\n",
       "\n",
       "         [[[64, 24, 64, 32, 48],\n",
       "           [64, 56, 56, 16, 24],\n",
       "           [ 0,  8,  0,  0, 56],\n",
       "           [ 0, 48, 64,  8, 48]],\n",
       "\n",
       "          [[72, 72, 48, 56, 24],\n",
       "           [64, 48, 24, 64,  0],\n",
       "           [40,  0, 48, 56, 40],\n",
       "           [56, 64, 24, 72, 72]],\n",
       "\n",
       "          [[16, 48, 56,  8,  8],\n",
       "           [56, 56, 16, 32, 16],\n",
       "           [16, 40,  0, 32, 56],\n",
       "           [32, 40, 64, 64, 72]]],\n",
       "\n",
       "\n",
       "         [[[72, 27, 72, 36, 54],\n",
       "           [72, 63, 63, 18, 27],\n",
       "           [ 0,  9,  0,  0, 63],\n",
       "           [ 0, 54, 72,  9, 54]],\n",
       "\n",
       "          [[81, 81, 54, 63, 27],\n",
       "           [72, 54, 27, 72,  0],\n",
       "           [45,  0, 54, 63, 45],\n",
       "           [63, 72, 27, 81, 81]],\n",
       "\n",
       "          [[18, 54, 63,  9,  9],\n",
       "           [63, 63, 18, 36, 18],\n",
       "           [18, 45,  0, 36, 63],\n",
       "           [36, 45, 72, 72, 81]]],\n",
       "\n",
       "\n",
       "         [[[72, 27, 72, 36, 54],\n",
       "           [72, 63, 63, 18, 27],\n",
       "           [ 0,  9,  0,  0, 63],\n",
       "           [ 0, 54, 72,  9, 54]],\n",
       "\n",
       "          [[81, 81, 54, 63, 27],\n",
       "           [72, 54, 27, 72,  0],\n",
       "           [45,  0, 54, 63, 45],\n",
       "           [63, 72, 27, 81, 81]],\n",
       "\n",
       "          [[18, 54, 63,  9,  9],\n",
       "           [63, 63, 18, 36, 18],\n",
       "           [18, 45,  0, 36, 63],\n",
       "           [36, 45, 72, 72, 81]]],\n",
       "\n",
       "\n",
       "         [[[56, 21, 56, 28, 42],\n",
       "           [56, 49, 49, 14, 21],\n",
       "           [ 0,  7,  0,  0, 49],\n",
       "           [ 0, 42, 56,  7, 42]],\n",
       "\n",
       "          [[63, 63, 42, 49, 21],\n",
       "           [56, 42, 21, 56,  0],\n",
       "           [35,  0, 42, 49, 35],\n",
       "           [49, 56, 21, 63, 63]],\n",
       "\n",
       "          [[14, 42, 49,  7,  7],\n",
       "           [49, 49, 14, 28, 14],\n",
       "           [14, 35,  0, 28, 49],\n",
       "           [28, 35, 56, 56, 63]]]],\n",
       "\n",
       "\n",
       "\n",
       "        [[[[16,  6, 16,  8, 12],\n",
       "           [16, 14, 14,  4,  6],\n",
       "           [ 0,  2,  0,  0, 14],\n",
       "           [ 0, 12, 16,  2, 12]],\n",
       "\n",
       "          [[18, 18, 12, 14,  6],\n",
       "           [16, 12,  6, 16,  0],\n",
       "           [10,  0, 12, 14, 10],\n",
       "           [14, 16,  6, 18, 18]],\n",
       "\n",
       "          [[ 4, 12, 14,  2,  2],\n",
       "           [14, 14,  4,  8,  4],\n",
       "           [ 4, 10,  0,  8, 14],\n",
       "           [ 8, 10, 16, 16, 18]]],\n",
       "\n",
       "\n",
       "         [[[ 8,  3,  8,  4,  6],\n",
       "           [ 8,  7,  7,  2,  3],\n",
       "           [ 0,  1,  0,  0,  7],\n",
       "           [ 0,  6,  8,  1,  6]],\n",
       "\n",
       "          [[ 9,  9,  6,  7,  3],\n",
       "           [ 8,  6,  3,  8,  0],\n",
       "           [ 5,  0,  6,  7,  5],\n",
       "           [ 7,  8,  3,  9,  9]],\n",
       "\n",
       "          [[ 2,  6,  7,  1,  1],\n",
       "           [ 7,  7,  2,  4,  2],\n",
       "           [ 2,  5,  0,  4,  7],\n",
       "           [ 4,  5,  8,  8,  9]]],\n",
       "\n",
       "\n",
       "         [[[ 8,  3,  8,  4,  6],\n",
       "           [ 8,  7,  7,  2,  3],\n",
       "           [ 0,  1,  0,  0,  7],\n",
       "           [ 0,  6,  8,  1,  6]],\n",
       "\n",
       "          [[ 9,  9,  6,  7,  3],\n",
       "           [ 8,  6,  3,  8,  0],\n",
       "           [ 5,  0,  6,  7,  5],\n",
       "           [ 7,  8,  3,  9,  9]],\n",
       "\n",
       "          [[ 2,  6,  7,  1,  1],\n",
       "           [ 7,  7,  2,  4,  2],\n",
       "           [ 2,  5,  0,  4,  7],\n",
       "           [ 4,  5,  8,  8,  9]]],\n",
       "\n",
       "\n",
       "         [[[72, 27, 72, 36, 54],\n",
       "           [72, 63, 63, 18, 27],\n",
       "           [ 0,  9,  0,  0, 63],\n",
       "           [ 0, 54, 72,  9, 54]],\n",
       "\n",
       "          [[81, 81, 54, 63, 27],\n",
       "           [72, 54, 27, 72,  0],\n",
       "           [45,  0, 54, 63, 45],\n",
       "           [63, 72, 27, 81, 81]],\n",
       "\n",
       "          [[18, 54, 63,  9,  9],\n",
       "           [63, 63, 18, 36, 18],\n",
       "           [18, 45,  0, 36, 63],\n",
       "           [36, 45, 72, 72, 81]]],\n",
       "\n",
       "\n",
       "         [[[ 0,  0,  0,  0,  0],\n",
       "           [ 0,  0,  0,  0,  0],\n",
       "           [ 0,  0,  0,  0,  0],\n",
       "           [ 0,  0,  0,  0,  0]],\n",
       "\n",
       "          [[ 0,  0,  0,  0,  0],\n",
       "           [ 0,  0,  0,  0,  0],\n",
       "           [ 0,  0,  0,  0,  0],\n",
       "           [ 0,  0,  0,  0,  0]],\n",
       "\n",
       "          [[ 0,  0,  0,  0,  0],\n",
       "           [ 0,  0,  0,  0,  0],\n",
       "           [ 0,  0,  0,  0,  0],\n",
       "           [ 0,  0,  0,  0,  0]]]],\n",
       "\n",
       "\n",
       "\n",
       "        [[[[64, 24, 64, 32, 48],\n",
       "           [64, 56, 56, 16, 24],\n",
       "           [ 0,  8,  0,  0, 56],\n",
       "           [ 0, 48, 64,  8, 48]],\n",
       "\n",
       "          [[72, 72, 48, 56, 24],\n",
       "           [64, 48, 24, 64,  0],\n",
       "           [40,  0, 48, 56, 40],\n",
       "           [56, 64, 24, 72, 72]],\n",
       "\n",
       "          [[16, 48, 56,  8,  8],\n",
       "           [56, 56, 16, 32, 16],\n",
       "           [16, 40,  0, 32, 56],\n",
       "           [32, 40, 64, 64, 72]]],\n",
       "\n",
       "\n",
       "         [[[64, 24, 64, 32, 48],\n",
       "           [64, 56, 56, 16, 24],\n",
       "           [ 0,  8,  0,  0, 56],\n",
       "           [ 0, 48, 64,  8, 48]],\n",
       "\n",
       "          [[72, 72, 48, 56, 24],\n",
       "           [64, 48, 24, 64,  0],\n",
       "           [40,  0, 48, 56, 40],\n",
       "           [56, 64, 24, 72, 72]],\n",
       "\n",
       "          [[16, 48, 56,  8,  8],\n",
       "           [56, 56, 16, 32, 16],\n",
       "           [16, 40,  0, 32, 56],\n",
       "           [32, 40, 64, 64, 72]]],\n",
       "\n",
       "\n",
       "         [[[32, 12, 32, 16, 24],\n",
       "           [32, 28, 28,  8, 12],\n",
       "           [ 0,  4,  0,  0, 28],\n",
       "           [ 0, 24, 32,  4, 24]],\n",
       "\n",
       "          [[36, 36, 24, 28, 12],\n",
       "           [32, 24, 12, 32,  0],\n",
       "           [20,  0, 24, 28, 20],\n",
       "           [28, 32, 12, 36, 36]],\n",
       "\n",
       "          [[ 8, 24, 28,  4,  4],\n",
       "           [28, 28,  8, 16,  8],\n",
       "           [ 8, 20,  0, 16, 28],\n",
       "           [16, 20, 32, 32, 36]]],\n",
       "\n",
       "\n",
       "         [[[ 0,  0,  0,  0,  0],\n",
       "           [ 0,  0,  0,  0,  0],\n",
       "           [ 0,  0,  0,  0,  0],\n",
       "           [ 0,  0,  0,  0,  0]],\n",
       "\n",
       "          [[ 0,  0,  0,  0,  0],\n",
       "           [ 0,  0,  0,  0,  0],\n",
       "           [ 0,  0,  0,  0,  0],\n",
       "           [ 0,  0,  0,  0,  0]],\n",
       "\n",
       "          [[ 0,  0,  0,  0,  0],\n",
       "           [ 0,  0,  0,  0,  0],\n",
       "           [ 0,  0,  0,  0,  0],\n",
       "           [ 0,  0,  0,  0,  0]]],\n",
       "\n",
       "\n",
       "         [[[40, 15, 40, 20, 30],\n",
       "           [40, 35, 35, 10, 15],\n",
       "           [ 0,  5,  0,  0, 35],\n",
       "           [ 0, 30, 40,  5, 30]],\n",
       "\n",
       "          [[45, 45, 30, 35, 15],\n",
       "           [40, 30, 15, 40,  0],\n",
       "           [25,  0, 30, 35, 25],\n",
       "           [35, 40, 15, 45, 45]],\n",
       "\n",
       "          [[10, 30, 35,  5,  5],\n",
       "           [35, 35, 10, 20, 10],\n",
       "           [10, 25,  0, 20, 35],\n",
       "           [20, 25, 40, 40, 45]]]],\n",
       "\n",
       "\n",
       "\n",
       "        [[[[24,  9, 24, 12, 18],\n",
       "           [24, 21, 21,  6,  9],\n",
       "           [ 0,  3,  0,  0, 21],\n",
       "           [ 0, 18, 24,  3, 18]],\n",
       "\n",
       "          [[27, 27, 18, 21,  9],\n",
       "           [24, 18,  9, 24,  0],\n",
       "           [15,  0, 18, 21, 15],\n",
       "           [21, 24,  9, 27, 27]],\n",
       "\n",
       "          [[ 6, 18, 21,  3,  3],\n",
       "           [21, 21,  6, 12,  6],\n",
       "           [ 6, 15,  0, 12, 21],\n",
       "           [12, 15, 24, 24, 27]]],\n",
       "\n",
       "\n",
       "         [[[48, 18, 48, 24, 36],\n",
       "           [48, 42, 42, 12, 18],\n",
       "           [ 0,  6,  0,  0, 42],\n",
       "           [ 0, 36, 48,  6, 36]],\n",
       "\n",
       "          [[54, 54, 36, 42, 18],\n",
       "           [48, 36, 18, 48,  0],\n",
       "           [30,  0, 36, 42, 30],\n",
       "           [42, 48, 18, 54, 54]],\n",
       "\n",
       "          [[12, 36, 42,  6,  6],\n",
       "           [42, 42, 12, 24, 12],\n",
       "           [12, 30,  0, 24, 42],\n",
       "           [24, 30, 48, 48, 54]]],\n",
       "\n",
       "\n",
       "         [[[72, 27, 72, 36, 54],\n",
       "           [72, 63, 63, 18, 27],\n",
       "           [ 0,  9,  0,  0, 63],\n",
       "           [ 0, 54, 72,  9, 54]],\n",
       "\n",
       "          [[81, 81, 54, 63, 27],\n",
       "           [72, 54, 27, 72,  0],\n",
       "           [45,  0, 54, 63, 45],\n",
       "           [63, 72, 27, 81, 81]],\n",
       "\n",
       "          [[18, 54, 63,  9,  9],\n",
       "           [63, 63, 18, 36, 18],\n",
       "           [18, 45,  0, 36, 63],\n",
       "           [36, 45, 72, 72, 81]]],\n",
       "\n",
       "\n",
       "         [[[40, 15, 40, 20, 30],\n",
       "           [40, 35, 35, 10, 15],\n",
       "           [ 0,  5,  0,  0, 35],\n",
       "           [ 0, 30, 40,  5, 30]],\n",
       "\n",
       "          [[45, 45, 30, 35, 15],\n",
       "           [40, 30, 15, 40,  0],\n",
       "           [25,  0, 30, 35, 25],\n",
       "           [35, 40, 15, 45, 45]],\n",
       "\n",
       "          [[10, 30, 35,  5,  5],\n",
       "           [35, 35, 10, 20, 10],\n",
       "           [10, 25,  0, 20, 35],\n",
       "           [20, 25, 40, 40, 45]]],\n",
       "\n",
       "\n",
       "         [[[ 0,  0,  0,  0,  0],\n",
       "           [ 0,  0,  0,  0,  0],\n",
       "           [ 0,  0,  0,  0,  0],\n",
       "           [ 0,  0,  0,  0,  0]],\n",
       "\n",
       "          [[ 0,  0,  0,  0,  0],\n",
       "           [ 0,  0,  0,  0,  0],\n",
       "           [ 0,  0,  0,  0,  0],\n",
       "           [ 0,  0,  0,  0,  0]],\n",
       "\n",
       "          [[ 0,  0,  0,  0,  0],\n",
       "           [ 0,  0,  0,  0,  0],\n",
       "           [ 0,  0,  0,  0,  0],\n",
       "           [ 0,  0,  0,  0,  0]]]]],\n",
       "\n",
       "\n",
       "\n",
       "\n",
       "       [[[[[ 8,  3,  8,  4,  6],\n",
       "           [ 8,  7,  7,  2,  3],\n",
       "           [ 0,  1,  0,  0,  7],\n",
       "           [ 0,  6,  8,  1,  6]],\n",
       "\n",
       "          [[ 9,  9,  6,  7,  3],\n",
       "           [ 8,  6,  3,  8,  0],\n",
       "           [ 5,  0,  6,  7,  5],\n",
       "           [ 7,  8,  3,  9,  9]],\n",
       "\n",
       "          [[ 2,  6,  7,  1,  1],\n",
       "           [ 7,  7,  2,  4,  2],\n",
       "           [ 2,  5,  0,  4,  7],\n",
       "           [ 4,  5,  8,  8,  9]]],\n",
       "\n",
       "\n",
       "         [[[40, 15, 40, 20, 30],\n",
       "           [40, 35, 35, 10, 15],\n",
       "           [ 0,  5,  0,  0, 35],\n",
       "           [ 0, 30, 40,  5, 30]],\n",
       "\n",
       "          [[45, 45, 30, 35, 15],\n",
       "           [40, 30, 15, 40,  0],\n",
       "           [25,  0, 30, 35, 25],\n",
       "           [35, 40, 15, 45, 45]],\n",
       "\n",
       "          [[10, 30, 35,  5,  5],\n",
       "           [35, 35, 10, 20, 10],\n",
       "           [10, 25,  0, 20, 35],\n",
       "           [20, 25, 40, 40, 45]]],\n",
       "\n",
       "\n",
       "         [[[48, 18, 48, 24, 36],\n",
       "           [48, 42, 42, 12, 18],\n",
       "           [ 0,  6,  0,  0, 42],\n",
       "           [ 0, 36, 48,  6, 36]],\n",
       "\n",
       "          [[54, 54, 36, 42, 18],\n",
       "           [48, 36, 18, 48,  0],\n",
       "           [30,  0, 36, 42, 30],\n",
       "           [42, 48, 18, 54, 54]],\n",
       "\n",
       "          [[12, 36, 42,  6,  6],\n",
       "           [42, 42, 12, 24, 12],\n",
       "           [12, 30,  0, 24, 42],\n",
       "           [24, 30, 48, 48, 54]]],\n",
       "\n",
       "\n",
       "         [[[40, 15, 40, 20, 30],\n",
       "           [40, 35, 35, 10, 15],\n",
       "           [ 0,  5,  0,  0, 35],\n",
       "           [ 0, 30, 40,  5, 30]],\n",
       "\n",
       "          [[45, 45, 30, 35, 15],\n",
       "           [40, 30, 15, 40,  0],\n",
       "           [25,  0, 30, 35, 25],\n",
       "           [35, 40, 15, 45, 45]],\n",
       "\n",
       "          [[10, 30, 35,  5,  5],\n",
       "           [35, 35, 10, 20, 10],\n",
       "           [10, 25,  0, 20, 35],\n",
       "           [20, 25, 40, 40, 45]]],\n",
       "\n",
       "\n",
       "         [[[32, 12, 32, 16, 24],\n",
       "           [32, 28, 28,  8, 12],\n",
       "           [ 0,  4,  0,  0, 28],\n",
       "           [ 0, 24, 32,  4, 24]],\n",
       "\n",
       "          [[36, 36, 24, 28, 12],\n",
       "           [32, 24, 12, 32,  0],\n",
       "           [20,  0, 24, 28, 20],\n",
       "           [28, 32, 12, 36, 36]],\n",
       "\n",
       "          [[ 8, 24, 28,  4,  4],\n",
       "           [28, 28,  8, 16,  8],\n",
       "           [ 8, 20,  0, 16, 28],\n",
       "           [16, 20, 32, 32, 36]]]],\n",
       "\n",
       "\n",
       "\n",
       "        [[[[48, 18, 48, 24, 36],\n",
       "           [48, 42, 42, 12, 18],\n",
       "           [ 0,  6,  0,  0, 42],\n",
       "           [ 0, 36, 48,  6, 36]],\n",
       "\n",
       "          [[54, 54, 36, 42, 18],\n",
       "           [48, 36, 18, 48,  0],\n",
       "           [30,  0, 36, 42, 30],\n",
       "           [42, 48, 18, 54, 54]],\n",
       "\n",
       "          [[12, 36, 42,  6,  6],\n",
       "           [42, 42, 12, 24, 12],\n",
       "           [12, 30,  0, 24, 42],\n",
       "           [24, 30, 48, 48, 54]]],\n",
       "\n",
       "\n",
       "         [[[40, 15, 40, 20, 30],\n",
       "           [40, 35, 35, 10, 15],\n",
       "           [ 0,  5,  0,  0, 35],\n",
       "           [ 0, 30, 40,  5, 30]],\n",
       "\n",
       "          [[45, 45, 30, 35, 15],\n",
       "           [40, 30, 15, 40,  0],\n",
       "           [25,  0, 30, 35, 25],\n",
       "           [35, 40, 15, 45, 45]],\n",
       "\n",
       "          [[10, 30, 35,  5,  5],\n",
       "           [35, 35, 10, 20, 10],\n",
       "           [10, 25,  0, 20, 35],\n",
       "           [20, 25, 40, 40, 45]]],\n",
       "\n",
       "\n",
       "         [[[72, 27, 72, 36, 54],\n",
       "           [72, 63, 63, 18, 27],\n",
       "           [ 0,  9,  0,  0, 63],\n",
       "           [ 0, 54, 72,  9, 54]],\n",
       "\n",
       "          [[81, 81, 54, 63, 27],\n",
       "           [72, 54, 27, 72,  0],\n",
       "           [45,  0, 54, 63, 45],\n",
       "           [63, 72, 27, 81, 81]],\n",
       "\n",
       "          [[18, 54, 63,  9,  9],\n",
       "           [63, 63, 18, 36, 18],\n",
       "           [18, 45,  0, 36, 63],\n",
       "           [36, 45, 72, 72, 81]]],\n",
       "\n",
       "\n",
       "         [[[32, 12, 32, 16, 24],\n",
       "           [32, 28, 28,  8, 12],\n",
       "           [ 0,  4,  0,  0, 28],\n",
       "           [ 0, 24, 32,  4, 24]],\n",
       "\n",
       "          [[36, 36, 24, 28, 12],\n",
       "           [32, 24, 12, 32,  0],\n",
       "           [20,  0, 24, 28, 20],\n",
       "           [28, 32, 12, 36, 36]],\n",
       "\n",
       "          [[ 8, 24, 28,  4,  4],\n",
       "           [28, 28,  8, 16,  8],\n",
       "           [ 8, 20,  0, 16, 28],\n",
       "           [16, 20, 32, 32, 36]]],\n",
       "\n",
       "\n",
       "         [[[ 8,  3,  8,  4,  6],\n",
       "           [ 8,  7,  7,  2,  3],\n",
       "           [ 0,  1,  0,  0,  7],\n",
       "           [ 0,  6,  8,  1,  6]],\n",
       "\n",
       "          [[ 9,  9,  6,  7,  3],\n",
       "           [ 8,  6,  3,  8,  0],\n",
       "           [ 5,  0,  6,  7,  5],\n",
       "           [ 7,  8,  3,  9,  9]],\n",
       "\n",
       "          [[ 2,  6,  7,  1,  1],\n",
       "           [ 7,  7,  2,  4,  2],\n",
       "           [ 2,  5,  0,  4,  7],\n",
       "           [ 4,  5,  8,  8,  9]]]],\n",
       "\n",
       "\n",
       "\n",
       "        [[[[48, 18, 48, 24, 36],\n",
       "           [48, 42, 42, 12, 18],\n",
       "           [ 0,  6,  0,  0, 42],\n",
       "           [ 0, 36, 48,  6, 36]],\n",
       "\n",
       "          [[54, 54, 36, 42, 18],\n",
       "           [48, 36, 18, 48,  0],\n",
       "           [30,  0, 36, 42, 30],\n",
       "           [42, 48, 18, 54, 54]],\n",
       "\n",
       "          [[12, 36, 42,  6,  6],\n",
       "           [42, 42, 12, 24, 12],\n",
       "           [12, 30,  0, 24, 42],\n",
       "           [24, 30, 48, 48, 54]]],\n",
       "\n",
       "\n",
       "         [[[40, 15, 40, 20, 30],\n",
       "           [40, 35, 35, 10, 15],\n",
       "           [ 0,  5,  0,  0, 35],\n",
       "           [ 0, 30, 40,  5, 30]],\n",
       "\n",
       "          [[45, 45, 30, 35, 15],\n",
       "           [40, 30, 15, 40,  0],\n",
       "           [25,  0, 30, 35, 25],\n",
       "           [35, 40, 15, 45, 45]],\n",
       "\n",
       "          [[10, 30, 35,  5,  5],\n",
       "           [35, 35, 10, 20, 10],\n",
       "           [10, 25,  0, 20, 35],\n",
       "           [20, 25, 40, 40, 45]]],\n",
       "\n",
       "\n",
       "         [[[ 8,  3,  8,  4,  6],\n",
       "           [ 8,  7,  7,  2,  3],\n",
       "           [ 0,  1,  0,  0,  7],\n",
       "           [ 0,  6,  8,  1,  6]],\n",
       "\n",
       "          [[ 9,  9,  6,  7,  3],\n",
       "           [ 8,  6,  3,  8,  0],\n",
       "           [ 5,  0,  6,  7,  5],\n",
       "           [ 7,  8,  3,  9,  9]],\n",
       "\n",
       "          [[ 2,  6,  7,  1,  1],\n",
       "           [ 7,  7,  2,  4,  2],\n",
       "           [ 2,  5,  0,  4,  7],\n",
       "           [ 4,  5,  8,  8,  9]]],\n",
       "\n",
       "\n",
       "         [[[ 8,  3,  8,  4,  6],\n",
       "           [ 8,  7,  7,  2,  3],\n",
       "           [ 0,  1,  0,  0,  7],\n",
       "           [ 0,  6,  8,  1,  6]],\n",
       "\n",
       "          [[ 9,  9,  6,  7,  3],\n",
       "           [ 8,  6,  3,  8,  0],\n",
       "           [ 5,  0,  6,  7,  5],\n",
       "           [ 7,  8,  3,  9,  9]],\n",
       "\n",
       "          [[ 2,  6,  7,  1,  1],\n",
       "           [ 7,  7,  2,  4,  2],\n",
       "           [ 2,  5,  0,  4,  7],\n",
       "           [ 4,  5,  8,  8,  9]]],\n",
       "\n",
       "\n",
       "         [[[48, 18, 48, 24, 36],\n",
       "           [48, 42, 42, 12, 18],\n",
       "           [ 0,  6,  0,  0, 42],\n",
       "           [ 0, 36, 48,  6, 36]],\n",
       "\n",
       "          [[54, 54, 36, 42, 18],\n",
       "           [48, 36, 18, 48,  0],\n",
       "           [30,  0, 36, 42, 30],\n",
       "           [42, 48, 18, 54, 54]],\n",
       "\n",
       "          [[12, 36, 42,  6,  6],\n",
       "           [42, 42, 12, 24, 12],\n",
       "           [12, 30,  0, 24, 42],\n",
       "           [24, 30, 48, 48, 54]]]],\n",
       "\n",
       "\n",
       "\n",
       "        [[[[24,  9, 24, 12, 18],\n",
       "           [24, 21, 21,  6,  9],\n",
       "           [ 0,  3,  0,  0, 21],\n",
       "           [ 0, 18, 24,  3, 18]],\n",
       "\n",
       "          [[27, 27, 18, 21,  9],\n",
       "           [24, 18,  9, 24,  0],\n",
       "           [15,  0, 18, 21, 15],\n",
       "           [21, 24,  9, 27, 27]],\n",
       "\n",
       "          [[ 6, 18, 21,  3,  3],\n",
       "           [21, 21,  6, 12,  6],\n",
       "           [ 6, 15,  0, 12, 21],\n",
       "           [12, 15, 24, 24, 27]]],\n",
       "\n",
       "\n",
       "         [[[16,  6, 16,  8, 12],\n",
       "           [16, 14, 14,  4,  6],\n",
       "           [ 0,  2,  0,  0, 14],\n",
       "           [ 0, 12, 16,  2, 12]],\n",
       "\n",
       "          [[18, 18, 12, 14,  6],\n",
       "           [16, 12,  6, 16,  0],\n",
       "           [10,  0, 12, 14, 10],\n",
       "           [14, 16,  6, 18, 18]],\n",
       "\n",
       "          [[ 4, 12, 14,  2,  2],\n",
       "           [14, 14,  4,  8,  4],\n",
       "           [ 4, 10,  0,  8, 14],\n",
       "           [ 8, 10, 16, 16, 18]]],\n",
       "\n",
       "\n",
       "         [[[ 0,  0,  0,  0,  0],\n",
       "           [ 0,  0,  0,  0,  0],\n",
       "           [ 0,  0,  0,  0,  0],\n",
       "           [ 0,  0,  0,  0,  0]],\n",
       "\n",
       "          [[ 0,  0,  0,  0,  0],\n",
       "           [ 0,  0,  0,  0,  0],\n",
       "           [ 0,  0,  0,  0,  0],\n",
       "           [ 0,  0,  0,  0,  0]],\n",
       "\n",
       "          [[ 0,  0,  0,  0,  0],\n",
       "           [ 0,  0,  0,  0,  0],\n",
       "           [ 0,  0,  0,  0,  0],\n",
       "           [ 0,  0,  0,  0,  0]]],\n",
       "\n",
       "\n",
       "         [[[48, 18, 48, 24, 36],\n",
       "           [48, 42, 42, 12, 18],\n",
       "           [ 0,  6,  0,  0, 42],\n",
       "           [ 0, 36, 48,  6, 36]],\n",
       "\n",
       "          [[54, 54, 36, 42, 18],\n",
       "           [48, 36, 18, 48,  0],\n",
       "           [30,  0, 36, 42, 30],\n",
       "           [42, 48, 18, 54, 54]],\n",
       "\n",
       "          [[12, 36, 42,  6,  6],\n",
       "           [42, 42, 12, 24, 12],\n",
       "           [12, 30,  0, 24, 42],\n",
       "           [24, 30, 48, 48, 54]]],\n",
       "\n",
       "\n",
       "         [[[ 8,  3,  8,  4,  6],\n",
       "           [ 8,  7,  7,  2,  3],\n",
       "           [ 0,  1,  0,  0,  7],\n",
       "           [ 0,  6,  8,  1,  6]],\n",
       "\n",
       "          [[ 9,  9,  6,  7,  3],\n",
       "           [ 8,  6,  3,  8,  0],\n",
       "           [ 5,  0,  6,  7,  5],\n",
       "           [ 7,  8,  3,  9,  9]],\n",
       "\n",
       "          [[ 2,  6,  7,  1,  1],\n",
       "           [ 7,  7,  2,  4,  2],\n",
       "           [ 2,  5,  0,  4,  7],\n",
       "           [ 4,  5,  8,  8,  9]]]]]])"
      ]
     },
     "execution_count": 7,
     "metadata": {},
     "output_type": "execute_result"
    }
   ],
   "source": [
    "t = np.tensordot(A, B, axes=([0],[0]))\n",
    "t"
   ]
  },
  {
   "cell_type": "code",
   "execution_count": 8,
   "metadata": {},
   "outputs": [
    {
     "data": {
      "text/plain": [
       "array([[32, 12, 32, ..., 32, 32, 36],\n",
       "       [56, 21, 56, ..., 56, 56, 63],\n",
       "       [40, 15, 40, ..., 40, 40, 45],\n",
       "       ...,\n",
       "       [ 0,  0,  0, ...,  0,  0,  0],\n",
       "       [48, 18, 48, ..., 48, 48, 54],\n",
       "       [ 8,  3,  8, ...,  8,  8,  9]])"
      ]
     },
     "execution_count": 8,
     "metadata": {},
     "output_type": "execute_result"
    }
   ],
   "source": [
    "np.reshape(t, (np.prod(t.shape[:len(t.shape)//2]),np.prod(t.shape[:len(t.shape)//2])))"
   ]
  },
  {
   "cell_type": "code",
   "execution_count": 9,
   "metadata": {},
   "outputs": [
    {
     "data": {
      "text/plain": [
       "(60, 60)"
      ]
     },
     "execution_count": 9,
     "metadata": {},
     "output_type": "execute_result"
    }
   ],
   "source": [
    "np.reshape(t, (np.prod(t.shape[:len(t.shape)//2]),np.prod(t.shape[:len(t.shape)//2]))).shape"
   ]
  },
  {
   "cell_type": "code",
   "execution_count": 10,
   "metadata": {
    "scrolled": true
   },
   "outputs": [
    {
     "data": {
      "text/plain": [
       "60"
      ]
     },
     "execution_count": 10,
     "metadata": {},
     "output_type": "execute_result"
    }
   ],
   "source": [
    "np.prod(t.shape[:len(t.shape)//2])"
   ]
  },
  {
   "cell_type": "code",
   "execution_count": 9,
   "metadata": {},
   "outputs": [],
   "source": [
    "a = np.array((1, 2, 3, 4), dtype=object)\n",
    "a.shape = (1, 2, 2)\n",
    "A = np.array((5, 6, 7, 8), dtype=object)\n",
    "A.shape = (1, 2, 2)\n",
    "B = np.array((1,2,3,4,5,6,7,8),dtype=object)\n",
    "B.shape = (2,2,2)"
   ]
  },
  {
   "cell_type": "code",
   "execution_count": 10,
   "metadata": {
    "scrolled": true
   },
   "outputs": [
    {
     "data": {
      "text/plain": [
       "array([[[1, 2],\n",
       "        [3, 4]]], dtype=object)"
      ]
     },
     "execution_count": 10,
     "metadata": {},
     "output_type": "execute_result"
    }
   ],
   "source": [
    "a"
   ]
  },
  {
   "cell_type": "code",
   "execution_count": 11,
   "metadata": {},
   "outputs": [
    {
     "data": {
      "text/plain": [
       "array([[[5, 6],\n",
       "        [7, 8]]], dtype=object)"
      ]
     },
     "execution_count": 11,
     "metadata": {},
     "output_type": "execute_result"
    }
   ],
   "source": [
    "A"
   ]
  },
  {
   "cell_type": "code",
   "execution_count": 12,
   "metadata": {},
   "outputs": [
    {
     "data": {
      "text/plain": [
       "array([[[1, 2],\n",
       "        [3, 4]],\n",
       "\n",
       "       [[5, 6],\n",
       "        [7, 8]]], dtype=object)"
      ]
     },
     "execution_count": 12,
     "metadata": {},
     "output_type": "execute_result"
    }
   ],
   "source": [
    "B"
   ]
  },
  {
   "cell_type": "code",
   "execution_count": 13,
   "metadata": {},
   "outputs": [
    {
     "data": {
      "text/plain": [
       "array([[[[5, 6],\n",
       "         [7, 8]],\n",
       "\n",
       "        [[10, 12],\n",
       "         [14, 16]]],\n",
       "\n",
       "\n",
       "       [[[15, 18],\n",
       "         [21, 24]],\n",
       "\n",
       "        [[20, 24],\n",
       "         [28, 32]]]], dtype=object)"
      ]
     },
     "execution_count": 13,
     "metadata": {},
     "output_type": "execute_result"
    }
   ],
   "source": [
    "t = np.tensordot(a,A,([0],[0]))\n",
    "# t = t.reshape(2,8)\n",
    "t"
   ]
  },
  {
   "cell_type": "code",
   "execution_count": 14,
   "metadata": {
    "scrolled": false
   },
   "outputs": [
    {
     "data": {
      "text/plain": [
       "(2, 2, 2, 2)"
      ]
     },
     "execution_count": 14,
     "metadata": {},
     "output_type": "execute_result"
    }
   ],
   "source": [
    "t.shape"
   ]
  },
  {
   "cell_type": "code",
   "execution_count": 15,
   "metadata": {},
   "outputs": [
    {
     "data": {
      "text/plain": [
       "array([[[1, 2],\n",
       "        [5, 6]],\n",
       "\n",
       "       [[3, 4],\n",
       "        [7, 8]]], dtype=object)"
      ]
     },
     "execution_count": 15,
     "metadata": {},
     "output_type": "execute_result"
    }
   ],
   "source": [
    "np.swapaxes(B,0,1)"
   ]
  },
  {
   "cell_type": "code",
   "execution_count": 16,
   "metadata": {},
   "outputs": [
    {
     "data": {
      "text/plain": [
       "array([[[[5, 6],\n",
       "         [10, 12]],\n",
       "\n",
       "        [[7, 8],\n",
       "         [14, 16]]],\n",
       "\n",
       "\n",
       "       [[[15, 18],\n",
       "         [20, 24]],\n",
       "\n",
       "        [[21, 24],\n",
       "         [28, 32]]]], dtype=object)"
      ]
     },
     "execution_count": 16,
     "metadata": {},
     "output_type": "execute_result"
    }
   ],
   "source": [
    "np.swapaxes(t,1,2)"
   ]
  },
  {
   "cell_type": "code",
   "execution_count": null,
   "metadata": {},
   "outputs": [],
   "source": []
  },
  {
   "cell_type": "code",
   "execution_count": null,
   "metadata": {},
   "outputs": [],
   "source": []
  },
  {
   "cell_type": "code",
   "execution_count": 9,
   "metadata": {},
   "outputs": [],
   "source": [
    "# a = np.zeros([1,7,5,1])\n",
    "# for i in range(1):\n",
    "#     for ii in range(7):\n",
    "#         for iii in range(5):\n",
    "#             for iiii in range(1):\n",
    "#                 for j in range(2):\n",
    "#                     for k in range(3):\n",
    "#                         for l in range(8):\n",
    "#                             a[i,ii] += A[i,ii,k]*B[k,j,iii,l,iiii]"
   ]
  },
  {
   "cell_type": "code",
   "execution_count": null,
   "metadata": {},
   "outputs": [],
   "source": [
    "def Omega(N_index, derivative_index):\n",
    "    # derivative_index = [0,0] ~ d^2(f)/dx1^2\n",
    "    place = 0\n",
    "    res = 1\n",
    "    for i in range(len(N_index)//2):\n",
    "        if (derivative_index[0] == place)&(derivative_index[1] == place):\n",
    "            res = res*integral_of_N2N2[N_index[i],N_index[i+len(N_index)//2]]\n",
    "        else:\n",
    "            if (derivative_index[0] == place) | (derivative_index[1] == place):\n",
    "                res = res*integral_of_N1N1[N_index[i],N_index[i+len(N_index)//2]]\n",
    "            else:\n",
    "                res = res*integral_of_NN[N_index[i],N_index[i+len(N_index)//2]]\n",
    "    return res"
   ]
  },
  {
   "cell_type": "code",
   "execution_count": null,
   "metadata": {},
   "outputs": [],
   "source": []
  },
  {
   "cell_type": "code",
   "execution_count": null,
   "metadata": {},
   "outputs": [],
   "source": []
  },
  {
   "cell_type": "code",
   "execution_count": null,
   "metadata": {},
   "outputs": [],
   "source": []
  },
  {
   "cell_type": "code",
   "execution_count": null,
   "metadata": {},
   "outputs": [],
   "source": []
  },
  {
   "cell_type": "code",
   "execution_count": 1,
   "metadata": {},
   "outputs": [],
   "source": [
    "import numpy as np"
   ]
  },
  {
   "cell_type": "code",
   "execution_count": 2,
   "metadata": {},
   "outputs": [],
   "source": [
    "a = np.array([['00','01'],['10','11']],dtype=object)\n",
    "b = np.array([['aa','ab'],['ba','bb']],dtype=object)"
   ]
  },
  {
   "cell_type": "code",
   "execution_count": 3,
   "metadata": {},
   "outputs": [
    {
     "data": {
      "text/plain": [
       "array([['00', '01'],\n",
       "       ['10', '11']], dtype=object)"
      ]
     },
     "execution_count": 3,
     "metadata": {},
     "output_type": "execute_result"
    }
   ],
   "source": [
    "a"
   ]
  },
  {
   "cell_type": "code",
   "execution_count": 4,
   "metadata": {},
   "outputs": [
    {
     "data": {
      "text/plain": [
       "array([['aa', 'ab'],\n",
       "       ['ba', 'bb']], dtype=object)"
      ]
     },
     "execution_count": 4,
     "metadata": {},
     "output_type": "execute_result"
    }
   ],
   "source": [
    "b"
   ]
  },
  {
   "cell_type": "code",
   "execution_count": 5,
   "metadata": {},
   "outputs": [
    {
     "ename": "TypeError",
     "evalue": "can't multiply sequence by non-int of type 'str'",
     "output_type": "error",
     "traceback": [
      "\u001b[1;31m---------------------------------------------------------------------------\u001b[0m",
      "\u001b[1;31mTypeError\u001b[0m                                 Traceback (most recent call last)",
      "\u001b[1;32m<ipython-input-5-2ff23458293e>\u001b[0m in \u001b[0;36m<module>\u001b[1;34m\u001b[0m\n\u001b[1;32m----> 1\u001b[1;33m \u001b[0mnp\u001b[0m\u001b[1;33m.\u001b[0m\u001b[0mtensordot\u001b[0m\u001b[1;33m(\u001b[0m\u001b[0ma\u001b[0m\u001b[1;33m,\u001b[0m\u001b[0mb\u001b[0m\u001b[1;33m,\u001b[0m\u001b[1;33m(\u001b[0m\u001b[1;33m[\u001b[0m\u001b[1;36m0\u001b[0m\u001b[1;33m]\u001b[0m\u001b[1;33m,\u001b[0m\u001b[1;33m[\u001b[0m\u001b[1;36m1\u001b[0m\u001b[1;33m]\u001b[0m\u001b[1;33m)\u001b[0m\u001b[1;33m)\u001b[0m\u001b[1;33m\u001b[0m\u001b[1;33m\u001b[0m\u001b[0m\n\u001b[0m",
      "\u001b[1;32m~\\Anaconda3\\lib\\site-packages\\numpy\\core\\numeric.py\u001b[0m in \u001b[0;36mtensordot\u001b[1;34m(a, b, axes)\u001b[0m\n\u001b[0;32m   1391\u001b[0m     \u001b[0mat\u001b[0m \u001b[1;33m=\u001b[0m \u001b[0ma\u001b[0m\u001b[1;33m.\u001b[0m\u001b[0mtranspose\u001b[0m\u001b[1;33m(\u001b[0m\u001b[0mnewaxes_a\u001b[0m\u001b[1;33m)\u001b[0m\u001b[1;33m.\u001b[0m\u001b[0mreshape\u001b[0m\u001b[1;33m(\u001b[0m\u001b[0mnewshape_a\u001b[0m\u001b[1;33m)\u001b[0m\u001b[1;33m\u001b[0m\u001b[1;33m\u001b[0m\u001b[0m\n\u001b[0;32m   1392\u001b[0m     \u001b[0mbt\u001b[0m \u001b[1;33m=\u001b[0m \u001b[0mb\u001b[0m\u001b[1;33m.\u001b[0m\u001b[0mtranspose\u001b[0m\u001b[1;33m(\u001b[0m\u001b[0mnewaxes_b\u001b[0m\u001b[1;33m)\u001b[0m\u001b[1;33m.\u001b[0m\u001b[0mreshape\u001b[0m\u001b[1;33m(\u001b[0m\u001b[0mnewshape_b\u001b[0m\u001b[1;33m)\u001b[0m\u001b[1;33m\u001b[0m\u001b[1;33m\u001b[0m\u001b[0m\n\u001b[1;32m-> 1393\u001b[1;33m     \u001b[0mres\u001b[0m \u001b[1;33m=\u001b[0m \u001b[0mdot\u001b[0m\u001b[1;33m(\u001b[0m\u001b[0mat\u001b[0m\u001b[1;33m,\u001b[0m \u001b[0mbt\u001b[0m\u001b[1;33m)\u001b[0m\u001b[1;33m\u001b[0m\u001b[1;33m\u001b[0m\u001b[0m\n\u001b[0m\u001b[0;32m   1394\u001b[0m     \u001b[1;32mreturn\u001b[0m \u001b[0mres\u001b[0m\u001b[1;33m.\u001b[0m\u001b[0mreshape\u001b[0m\u001b[1;33m(\u001b[0m\u001b[0molda\u001b[0m \u001b[1;33m+\u001b[0m \u001b[0moldb\u001b[0m\u001b[1;33m)\u001b[0m\u001b[1;33m\u001b[0m\u001b[1;33m\u001b[0m\u001b[0m\n\u001b[0;32m   1395\u001b[0m \u001b[1;33m\u001b[0m\u001b[0m\n",
      "\u001b[1;31mTypeError\u001b[0m: can't multiply sequence by non-int of type 'str'"
     ]
    }
   ],
   "source": [
    "np.tensordot(a,b,([0],[1]))"
   ]
  },
  {
   "cell_type": "code",
   "execution_count": 18,
   "metadata": {},
   "outputs": [
    {
     "data": {
      "text/plain": [
       "array([['00aa', '01aa', '10aa', '11aa'],\n",
       "       ['00ab', '01ab', '10ab', '11ab'],\n",
       "       ['00ba', '01ba', '10ba', '11ba'],\n",
       "       ['00bb', '01bb', '10bb', '11bb']], dtype=object)"
      ]
     },
     "execution_count": 18,
     "metadata": {},
     "output_type": "execute_result"
    }
   ],
   "source": [
    "t = np.meshgrid(a,b)[0]+np.meshgrid(a,b)[1]\n",
    "t"
   ]
  },
  {
   "cell_type": "code",
   "execution_count": 19,
   "metadata": {},
   "outputs": [
    {
     "data": {
      "text/plain": [
       "array([[[['00aa', '01aa'],\n",
       "         ['10aa', '11aa']],\n",
       "\n",
       "        [['00ab', '01ab'],\n",
       "         ['10ab', '11ab']]],\n",
       "\n",
       "\n",
       "       [[['00ba', '01ba'],\n",
       "         ['10ba', '11ba']],\n",
       "\n",
       "        [['00bb', '01bb'],\n",
       "         ['10bb', '11bb']]]], dtype=object)"
      ]
     },
     "execution_count": 19,
     "metadata": {},
     "output_type": "execute_result"
    }
   ],
   "source": [
    "t.shape = (2,2,2,2)\n",
    "t"
   ]
  },
  {
   "cell_type": "code",
   "execution_count": 35,
   "metadata": {},
   "outputs": [
    {
     "data": {
      "text/plain": [
       "array([['00aa', '01aa', '10aa', '11aa'],\n",
       "       ['00ab', '01ab', '10ab', '11ab'],\n",
       "       ['00ba', '01ba', '10ba', '11ba'],\n",
       "       ['00bb', '01bb', '10bb', '11bb']], dtype=object)"
      ]
     },
     "execution_count": 35,
     "metadata": {},
     "output_type": "execute_result"
    }
   ],
   "source": [
    "t.flatten('K').reshape(4,4)"
   ]
  },
  {
   "cell_type": "code",
   "execution_count": 5,
   "metadata": {},
   "outputs": [],
   "source": [
    "import itertools as it "
   ]
  },
  {
   "cell_type": "code",
   "execution_count": 2,
   "metadata": {},
   "outputs": [
    {
     "ename": "NameError",
     "evalue": "name 'A' is not defined",
     "output_type": "error",
     "traceback": [
      "\u001b[1;31m---------------------------------------------------------------------------\u001b[0m",
      "\u001b[1;31mNameError\u001b[0m                                 Traceback (most recent call last)",
      "\u001b[1;32m<ipython-input-2-ecb7d7675a0f>\u001b[0m in \u001b[0;36m<module>\u001b[1;34m\u001b[0m\n\u001b[1;32m----> 1\u001b[1;33m \u001b[0mt\u001b[0m \u001b[1;33m=\u001b[0m \u001b[0mlist\u001b[0m\u001b[1;33m(\u001b[0m\u001b[0mit\u001b[0m\u001b[1;33m.\u001b[0m\u001b[0mproduct\u001b[0m\u001b[1;33m(\u001b[0m\u001b[0mA\u001b[0m\u001b[1;33m[\u001b[0m\u001b[0mtuple\u001b[0m\u001b[1;33m(\u001b[0m\u001b[0mit\u001b[0m\u001b[1;33m.\u001b[0m\u001b[0mproduct\u001b[0m\u001b[1;33m(\u001b[0m\u001b[1;33m[\u001b[0m\u001b[1;36m0\u001b[0m\u001b[1;33m,\u001b[0m \u001b[1;36m1\u001b[0m\u001b[1;33m]\u001b[0m\u001b[1;33m,\u001b[0m \u001b[0mrepeat\u001b[0m\u001b[1;33m=\u001b[0m\u001b[1;36m2\u001b[0m\u001b[1;33m)\u001b[0m\u001b[1;33m)\u001b[0m\u001b[1;33m]\u001b[0m\u001b[1;33m,\u001b[0m \u001b[0mrepeat\u001b[0m\u001b[1;33m=\u001b[0m\u001b[1;36m2\u001b[0m\u001b[1;33m)\u001b[0m\u001b[1;33m)\u001b[0m\u001b[1;33m\u001b[0m\u001b[1;33m\u001b[0m\u001b[0m\n\u001b[0m\u001b[0;32m      2\u001b[0m \u001b[0mt\u001b[0m\u001b[1;33m\u001b[0m\u001b[1;33m\u001b[0m\u001b[0m\n",
      "\u001b[1;31mNameError\u001b[0m: name 'A' is not defined"
     ]
    }
   ],
   "source": [
    "t = list(it.product(A[tuple(it.product([0, 1], repeat=2))], repeat=2))\n",
    "t"
   ]
  },
  {
   "cell_type": "code",
   "execution_count": 41,
   "metadata": {},
   "outputs": [
    {
     "data": {
      "text/plain": [
       "array([[[[0, 0],\n",
       "         [0, 0]],\n",
       "\n",
       "        [[0, 0],\n",
       "         [0, 1]],\n",
       "\n",
       "        [[0, 1],\n",
       "         [0, 0]],\n",
       "\n",
       "        [[0, 1],\n",
       "         [0, 1]]],\n",
       "\n",
       "\n",
       "       [[[0, 0],\n",
       "         [1, 0]],\n",
       "\n",
       "        [[0, 0],\n",
       "         [1, 1]],\n",
       "\n",
       "        [[0, 1],\n",
       "         [1, 0]],\n",
       "\n",
       "        [[0, 1],\n",
       "         [1, 1]]],\n",
       "\n",
       "\n",
       "       [[[1, 0],\n",
       "         [0, 0]],\n",
       "\n",
       "        [[1, 0],\n",
       "         [0, 1]],\n",
       "\n",
       "        [[1, 1],\n",
       "         [0, 0]],\n",
       "\n",
       "        [[1, 1],\n",
       "         [0, 1]]],\n",
       "\n",
       "\n",
       "       [[[1, 0],\n",
       "         [1, 0]],\n",
       "\n",
       "        [[1, 0],\n",
       "         [1, 1]],\n",
       "\n",
       "        [[1, 1],\n",
       "         [1, 0]],\n",
       "\n",
       "        [[1, 1],\n",
       "         [1, 1]]]])"
      ]
     },
     "execution_count": 41,
     "metadata": {},
     "output_type": "execute_result"
    }
   ],
   "source": [
    "arr = np.swapaxes(t,1,2).reshape(4,4,2,2)\n",
    "arr"
   ]
  },
  {
   "cell_type": "code",
   "execution_count": null,
   "metadata": {},
   "outputs": [],
   "source": []
  },
  {
   "cell_type": "code",
   "execution_count": 55,
   "metadata": {},
   "outputs": [
    {
     "ename": "IndexError",
     "evalue": "only integers, slices (`:`), ellipsis (`...`), numpy.newaxis (`None`) and integer or boolean arrays are valid indices",
     "output_type": "error",
     "traceback": [
      "\u001b[1;31m---------------------------------------------------------------------------\u001b[0m",
      "\u001b[1;31mIndexError\u001b[0m                                Traceback (most recent call last)",
      "\u001b[1;32m<ipython-input-55-2447cb8be774>\u001b[0m in \u001b[0;36m<module>\u001b[1;34m\u001b[0m\n\u001b[1;32m----> 1\u001b[1;33m \u001b[0mA\u001b[0m\u001b[1;33m[\u001b[0m\u001b[1;33m(\u001b[0m\u001b[0mit\u001b[0m\u001b[1;33m.\u001b[0m\u001b[0mproduct\u001b[0m\u001b[1;33m(\u001b[0m\u001b[1;33m[\u001b[0m\u001b[1;36m0\u001b[0m\u001b[1;33m,\u001b[0m \u001b[1;36m1\u001b[0m\u001b[1;33m]\u001b[0m\u001b[1;33m,\u001b[0m \u001b[0mrepeat\u001b[0m\u001b[1;33m=\u001b[0m\u001b[1;36m2\u001b[0m\u001b[1;33m)\u001b[0m\u001b[1;33m)\u001b[0m\u001b[1;33m]\u001b[0m\u001b[1;33m\u001b[0m\u001b[1;33m\u001b[0m\u001b[0m\n\u001b[0m",
      "\u001b[1;31mIndexError\u001b[0m: only integers, slices (`:`), ellipsis (`...`), numpy.newaxis (`None`) and integer or boolean arrays are valid indices"
     ]
    }
   ],
   "source": [
    "A[(it.product([0, 1], repeat=2))]"
   ]
  },
  {
   "cell_type": "code",
   "execution_count": 6,
   "metadata": {},
   "outputs": [
    {
     "ename": "IndexError",
     "evalue": "too many indices for array",
     "output_type": "error",
     "traceback": [
      "\u001b[1;31m---------------------------------------------------------------------------\u001b[0m",
      "\u001b[1;31mIndexError\u001b[0m                                Traceback (most recent call last)",
      "\u001b[1;32m<ipython-input-6-ecb7d7675a0f>\u001b[0m in \u001b[0;36m<module>\u001b[1;34m\u001b[0m\n\u001b[1;32m----> 1\u001b[1;33m \u001b[0mt\u001b[0m \u001b[1;33m=\u001b[0m \u001b[0mlist\u001b[0m\u001b[1;33m(\u001b[0m\u001b[0mit\u001b[0m\u001b[1;33m.\u001b[0m\u001b[0mproduct\u001b[0m\u001b[1;33m(\u001b[0m\u001b[0mA\u001b[0m\u001b[1;33m[\u001b[0m\u001b[0mtuple\u001b[0m\u001b[1;33m(\u001b[0m\u001b[0mit\u001b[0m\u001b[1;33m.\u001b[0m\u001b[0mproduct\u001b[0m\u001b[1;33m(\u001b[0m\u001b[1;33m[\u001b[0m\u001b[1;36m0\u001b[0m\u001b[1;33m,\u001b[0m \u001b[1;36m1\u001b[0m\u001b[1;33m]\u001b[0m\u001b[1;33m,\u001b[0m \u001b[0mrepeat\u001b[0m\u001b[1;33m=\u001b[0m\u001b[1;36m2\u001b[0m\u001b[1;33m)\u001b[0m\u001b[1;33m)\u001b[0m\u001b[1;33m]\u001b[0m\u001b[1;33m,\u001b[0m \u001b[0mrepeat\u001b[0m\u001b[1;33m=\u001b[0m\u001b[1;36m2\u001b[0m\u001b[1;33m)\u001b[0m\u001b[1;33m)\u001b[0m\u001b[1;33m\u001b[0m\u001b[1;33m\u001b[0m\u001b[0m\n\u001b[0m\u001b[0;32m      2\u001b[0m \u001b[0mt\u001b[0m\u001b[1;33m\u001b[0m\u001b[1;33m\u001b[0m\u001b[0m\n",
      "\u001b[1;31mIndexError\u001b[0m: too many indices for array"
     ]
    }
   ],
   "source": [
    "t = list(it.product(A[tuple(it.product([0, 1], repeat=2)u)], repeat=2))\n",
    "t"
   ]
  },
  {
   "cell_type": "code",
   "execution_count": 13,
   "metadata": {},
   "outputs": [],
   "source": [
    "a = np.array([[1,2],\n",
    "              [3,4]])\n",
    "b = np.array([[10,20],\n",
    "              [30,40]])\n"
   ]
  },
  {
   "cell_type": "code",
   "execution_count": 16,
   "metadata": {},
   "outputs": [
    {
     "data": {
      "text/plain": [
       "array([[ 10,  20,  30,  40],\n",
       "       [ 20,  40,  60,  80],\n",
       "       [ 30,  60,  90, 120],\n",
       "       [ 40,  80, 120, 160]])"
      ]
     },
     "execution_count": 16,
     "metadata": {},
     "output_type": "execute_result"
    }
   ],
   "source": [
    "t = a.reshape(1,4).T.dot(b.reshape(1,4))\n",
    "t"
   ]
  },
  {
   "cell_type": "code",
   "execution_count": 17,
   "metadata": {},
   "outputs": [
    {
     "ename": "AxisError",
     "evalue": "axis2: axis 2 is out of bounds for array of dimension 2",
     "output_type": "error",
     "traceback": [
      "\u001b[1;31m---------------------------------------------------------------------------\u001b[0m",
      "\u001b[1;31mAxisError\u001b[0m                                 Traceback (most recent call last)",
      "\u001b[1;32m<ipython-input-17-5063b29b94d0>\u001b[0m in \u001b[0;36m<module>\u001b[1;34m\u001b[0m\n\u001b[1;32m----> 1\u001b[1;33m \u001b[0mnp\u001b[0m\u001b[1;33m.\u001b[0m\u001b[0mswapaxes\u001b[0m\u001b[1;33m(\u001b[0m\u001b[0mt\u001b[0m\u001b[1;33m,\u001b[0m\u001b[1;36m1\u001b[0m\u001b[1;33m,\u001b[0m\u001b[1;36m2\u001b[0m\u001b[1;33m)\u001b[0m\u001b[1;33m\u001b[0m\u001b[1;33m\u001b[0m\u001b[0m\n\u001b[0m",
      "\u001b[1;32m~\\Anaconda3\\lib\\site-packages\\numpy\\core\\fromnumeric.py\u001b[0m in \u001b[0;36mswapaxes\u001b[1;34m(a, axis1, axis2)\u001b[0m\n\u001b[0;32m    583\u001b[0m \u001b[1;33m\u001b[0m\u001b[0m\n\u001b[0;32m    584\u001b[0m     \"\"\"\n\u001b[1;32m--> 585\u001b[1;33m     \u001b[1;32mreturn\u001b[0m \u001b[0m_wrapfunc\u001b[0m\u001b[1;33m(\u001b[0m\u001b[0ma\u001b[0m\u001b[1;33m,\u001b[0m \u001b[1;34m'swapaxes'\u001b[0m\u001b[1;33m,\u001b[0m \u001b[0maxis1\u001b[0m\u001b[1;33m,\u001b[0m \u001b[0maxis2\u001b[0m\u001b[1;33m)\u001b[0m\u001b[1;33m\u001b[0m\u001b[1;33m\u001b[0m\u001b[0m\n\u001b[0m\u001b[0;32m    586\u001b[0m \u001b[1;33m\u001b[0m\u001b[0m\n\u001b[0;32m    587\u001b[0m \u001b[1;33m\u001b[0m\u001b[0m\n",
      "\u001b[1;32m~\\Anaconda3\\lib\\site-packages\\numpy\\core\\fromnumeric.py\u001b[0m in \u001b[0;36m_wrapfunc\u001b[1;34m(obj, method, *args, **kwds)\u001b[0m\n\u001b[0;32m     54\u001b[0m \u001b[1;32mdef\u001b[0m \u001b[0m_wrapfunc\u001b[0m\u001b[1;33m(\u001b[0m\u001b[0mobj\u001b[0m\u001b[1;33m,\u001b[0m \u001b[0mmethod\u001b[0m\u001b[1;33m,\u001b[0m \u001b[1;33m*\u001b[0m\u001b[0margs\u001b[0m\u001b[1;33m,\u001b[0m \u001b[1;33m**\u001b[0m\u001b[0mkwds\u001b[0m\u001b[1;33m)\u001b[0m\u001b[1;33m:\u001b[0m\u001b[1;33m\u001b[0m\u001b[1;33m\u001b[0m\u001b[0m\n\u001b[0;32m     55\u001b[0m     \u001b[1;32mtry\u001b[0m\u001b[1;33m:\u001b[0m\u001b[1;33m\u001b[0m\u001b[1;33m\u001b[0m\u001b[0m\n\u001b[1;32m---> 56\u001b[1;33m         \u001b[1;32mreturn\u001b[0m \u001b[0mgetattr\u001b[0m\u001b[1;33m(\u001b[0m\u001b[0mobj\u001b[0m\u001b[1;33m,\u001b[0m \u001b[0mmethod\u001b[0m\u001b[1;33m)\u001b[0m\u001b[1;33m(\u001b[0m\u001b[1;33m*\u001b[0m\u001b[0margs\u001b[0m\u001b[1;33m,\u001b[0m \u001b[1;33m**\u001b[0m\u001b[0mkwds\u001b[0m\u001b[1;33m)\u001b[0m\u001b[1;33m\u001b[0m\u001b[1;33m\u001b[0m\u001b[0m\n\u001b[0m\u001b[0;32m     57\u001b[0m \u001b[1;33m\u001b[0m\u001b[0m\n\u001b[0;32m     58\u001b[0m     \u001b[1;31m# An AttributeError occurs if the object does not have\u001b[0m\u001b[1;33m\u001b[0m\u001b[1;33m\u001b[0m\u001b[1;33m\u001b[0m\u001b[0m\n",
      "\u001b[1;31mAxisError\u001b[0m: axis2: axis 2 is out of bounds for array of dimension 2"
     ]
    }
   ],
   "source": [
    "np.swapaxes(t,1,2)"
   ]
  },
  {
   "cell_type": "code",
   "execution_count": null,
   "metadata": {},
   "outputs": [],
   "source": []
  },
  {
   "cell_type": "code",
   "execution_count": null,
   "metadata": {},
   "outputs": [],
   "source": []
  },
  {
   "cell_type": "code",
   "execution_count": null,
   "metadata": {},
   "outputs": [],
   "source": []
  },
  {
   "cell_type": "code",
   "execution_count": null,
   "metadata": {},
   "outputs": [],
   "source": []
  },
  {
   "cell_type": "code",
   "execution_count": null,
   "metadata": {},
   "outputs": [],
   "source": []
  },
  {
   "cell_type": "code",
   "execution_count": null,
   "metadata": {},
   "outputs": [],
   "source": []
  },
  {
   "cell_type": "code",
   "execution_count": 44,
   "metadata": {},
   "outputs": [],
   "source": [
    "def totuple(a):\n",
    "    try:\n",
    "        return tuple(totuple(i) for i in a)\n",
    "    except TypeError:\n",
    "        return a"
   ]
  },
  {
   "cell_type": "code",
   "execution_count": 48,
   "metadata": {},
   "outputs": [
    {
     "data": {
      "text/plain": [
       "((((0, 0), (0, 0)), ((0, 0), (0, 1)), ((0, 1), (0, 0)), ((0, 1), (0, 1))),\n",
       " (((0, 0), (1, 0)), ((0, 0), (1, 1)), ((0, 1), (1, 0)), ((0, 1), (1, 1))),\n",
       " (((1, 0), (0, 0)), ((1, 0), (0, 1)), ((1, 1), (0, 0)), ((1, 1), (0, 1))),\n",
       " (((1, 0), (1, 0)), ((1, 0), (1, 1)), ((1, 1), (1, 0)), ((1, 1), (1, 1))))"
      ]
     },
     "execution_count": 48,
     "metadata": {},
     "output_type": "execute_result"
    }
   ],
   "source": [
    "alpha = totuple(arr)\n",
    "alpha"
   ]
  },
  {
   "cell_type": "code",
   "execution_count": 4,
   "metadata": {},
   "outputs": [
    {
     "data": {
      "text/plain": [
       "array([[1, 2],\n",
       "       [3, 4]])"
      ]
     },
     "execution_count": 4,
     "metadata": {},
     "output_type": "execute_result"
    }
   ],
   "source": [
    "A = np.array([[1,2],[3,4]])\n",
    "A"
   ]
  },
  {
   "cell_type": "code",
   "execution_count": 47,
   "metadata": {},
   "outputs": [
    {
     "ename": "IndexError",
     "evalue": "too many indices for array",
     "output_type": "error",
     "traceback": [
      "\u001b[1;31m---------------------------------------------------------------------------\u001b[0m",
      "\u001b[1;31mIndexError\u001b[0m                                Traceback (most recent call last)",
      "\u001b[1;32m<ipython-input-47-8324a4ad5122>\u001b[0m in \u001b[0;36m<module>\u001b[1;34m\u001b[0m\n\u001b[1;32m----> 1\u001b[1;33m \u001b[0mA\u001b[0m\u001b[1;33m[\u001b[0m\u001b[0malpha\u001b[0m\u001b[1;33m]\u001b[0m\u001b[1;33m\u001b[0m\u001b[1;33m\u001b[0m\u001b[0m\n\u001b[0m",
      "\u001b[1;31mIndexError\u001b[0m: too many indices for array"
     ]
    }
   ],
   "source": [
    "A[alpha]"
   ]
  },
  {
   "cell_type": "code",
   "execution_count": 49,
   "metadata": {},
   "outputs": [
    {
     "ename": "IndexError",
     "evalue": "too many indices for array",
     "output_type": "error",
     "traceback": [
      "\u001b[1;31m---------------------------------------------------------------------------\u001b[0m",
      "\u001b[1;31mIndexError\u001b[0m                                Traceback (most recent call last)",
      "\u001b[1;32m<ipython-input-49-2974ca7512d1>\u001b[0m in \u001b[0;36m<module>\u001b[1;34m\u001b[0m\n\u001b[1;32m----> 1\u001b[1;33m \u001b[1;33m[\u001b[0m\u001b[0mA\u001b[0m\u001b[1;33m[\u001b[0m\u001b[0ma\u001b[0m\u001b[1;33m]\u001b[0m \u001b[1;32mfor\u001b[0m \u001b[0ma\u001b[0m \u001b[1;32min\u001b[0m \u001b[0malpha\u001b[0m\u001b[1;33m]\u001b[0m\u001b[1;33m\u001b[0m\u001b[1;33m\u001b[0m\u001b[0m\n\u001b[0m",
      "\u001b[1;32m<ipython-input-49-2974ca7512d1>\u001b[0m in \u001b[0;36m<listcomp>\u001b[1;34m(.0)\u001b[0m\n\u001b[1;32m----> 1\u001b[1;33m \u001b[1;33m[\u001b[0m\u001b[0mA\u001b[0m\u001b[1;33m[\u001b[0m\u001b[0ma\u001b[0m\u001b[1;33m]\u001b[0m \u001b[1;32mfor\u001b[0m \u001b[0ma\u001b[0m \u001b[1;32min\u001b[0m \u001b[0malpha\u001b[0m\u001b[1;33m]\u001b[0m\u001b[1;33m\u001b[0m\u001b[1;33m\u001b[0m\u001b[0m\n\u001b[0m",
      "\u001b[1;31mIndexError\u001b[0m: too many indices for array"
     ]
    }
   ],
   "source": [
    "[A[a] for a in alpha]"
   ]
  },
  {
   "cell_type": "code",
   "execution_count": null,
   "metadata": {},
   "outputs": [],
   "source": []
  },
  {
   "cell_type": "code",
   "execution_count": null,
   "metadata": {},
   "outputs": [],
   "source": []
  },
  {
   "cell_type": "code",
   "execution_count": null,
   "metadata": {},
   "outputs": [],
   "source": []
  },
  {
   "cell_type": "code",
   "execution_count": null,
   "metadata": {},
   "outputs": [],
   "source": []
  },
  {
   "cell_type": "code",
   "execution_count": null,
   "metadata": {},
   "outputs": [],
   "source": []
  },
  {
   "cell_type": "code",
   "execution_count": null,
   "metadata": {},
   "outputs": [],
   "source": []
  },
  {
   "cell_type": "code",
   "execution_count": null,
   "metadata": {},
   "outputs": [],
   "source": []
  },
  {
   "cell_type": "code",
   "execution_count": 61,
   "metadata": {},
   "outputs": [],
   "source": [
    "a = np.array([[1,2],[3,4]],dtype=object)\n",
    "b = np.array([[1,2],[3,4]],dtype=object)"
   ]
  },
  {
   "cell_type": "code",
   "execution_count": 62,
   "metadata": {},
   "outputs": [
    {
     "data": {
      "text/plain": [
       "array([[2, 3, 4, 5],\n",
       "       [3, 4, 5, 6],\n",
       "       [4, 5, 6, 7],\n",
       "       [5, 6, 7, 8]], dtype=object)"
      ]
     },
     "execution_count": 62,
     "metadata": {},
     "output_type": "execute_result"
    }
   ],
   "source": [
    "np.meshgrid(a,b)[0]+np.meshgrid(a,b)[1]"
   ]
  },
  {
   "cell_type": "code",
   "execution_count": null,
   "metadata": {},
   "outputs": [],
   "source": []
  },
  {
   "cell_type": "markdown",
   "metadata": {},
   "source": [
    "## Test"
   ]
  },
  {
   "cell_type": "code",
   "execution_count": 5,
   "metadata": {},
   "outputs": [
    {
     "data": {
      "text/plain": [
       "(2, 14, 14)"
      ]
     },
     "execution_count": 5,
     "metadata": {},
     "output_type": "execute_result"
    }
   ],
   "source": [
    "self.Omega2().shape"
   ]
  },
  {
   "cell_type": "code",
   "execution_count": 6,
   "metadata": {},
   "outputs": [
    {
     "data": {
      "text/plain": [
       "10.0"
      ]
     },
     "execution_count": 6,
     "metadata": {},
     "output_type": "execute_result"
    }
   ],
   "source": [
    "l = self.lower_limit[0,4,10]\n",
    "l"
   ]
  },
  {
   "cell_type": "code",
   "execution_count": 7,
   "metadata": {},
   "outputs": [
    {
     "data": {
      "text/plain": [
       "80.0"
      ]
     },
     "execution_count": 7,
     "metadata": {},
     "output_type": "execute_result"
    }
   ],
   "source": [
    "u = self.upper_limit[0,4,10]\n",
    "u"
   ]
  },
  {
   "cell_type": "code",
   "execution_count": 8,
   "metadata": {},
   "outputs": [
    {
     "data": {
      "text/plain": [
       "80.0"
      ]
     },
     "execution_count": 8,
     "metadata": {},
     "output_type": "execute_result"
    }
   ],
   "source": [
    "m = self.m[0,4,10]\n",
    "m"
   ]
  },
  {
   "cell_type": "code",
   "execution_count": 9,
   "metadata": {},
   "outputs": [
    {
     "data": {
      "text/plain": [
       "60.0"
      ]
     },
     "execution_count": 9,
     "metadata": {},
     "output_type": "execute_result"
    }
   ],
   "source": [
    "m_ = self.m_[0,4,10]\n",
    "m_"
   ]
  },
  {
   "cell_type": "code",
   "execution_count": 10,
   "metadata": {},
   "outputs": [
    {
     "data": {
      "text/plain": [
       "15.0"
      ]
     },
     "execution_count": 10,
     "metadata": {},
     "output_type": "execute_result"
    }
   ],
   "source": [
    "a = self.a[0,4,10]\n",
    "a"
   ]
  },
  {
   "cell_type": "code",
   "execution_count": 11,
   "metadata": {},
   "outputs": [
    {
     "data": {
      "text/plain": [
       "21.0"
      ]
     },
     "execution_count": 11,
     "metadata": {},
     "output_type": "execute_result"
    }
   ],
   "source": [
    "b = self.b[0,4,10]\n",
    "b"
   ]
  },
  {
   "cell_type": "code",
   "execution_count": 12,
   "metadata": {},
   "outputs": [
    {
     "data": {
      "text/plain": [
       "array([[10., 12., 13., 14., 15., 16., 17., 18., 19., 20., 21., 40.],\n",
       "       [ 9., 11., 12., 13., 14., 15., 16., 17., 18., 19., 20., 39.]])"
      ]
     },
     "execution_count": 12,
     "metadata": {},
     "output_type": "execute_result"
    }
   ],
   "source": [
    "self.xi_j2"
   ]
  },
  {
   "cell_type": "code",
   "execution_count": 13,
   "metadata": {},
   "outputs": [
    {
     "data": {
      "text/plain": [
       "15.0"
      ]
     },
     "execution_count": 13,
     "metadata": {},
     "output_type": "execute_result"
    }
   ],
   "source": [
    "xi_j2 = self.xi_j2[0,4]\n",
    "xi_j2"
   ]
  },
  {
   "cell_type": "code",
   "execution_count": 14,
   "metadata": {},
   "outputs": [
    {
     "data": {
      "text/plain": [
       "80.0"
      ]
     },
     "execution_count": 14,
     "metadata": {},
     "output_type": "execute_result"
    }
   ],
   "source": [
    "xi_m = self.xi_m[0,4]\n",
    "xi_m"
   ]
  },
  {
   "cell_type": "code",
   "execution_count": 15,
   "metadata": {
    "scrolled": true
   },
   "outputs": [
    {
     "data": {
      "text/plain": [
       "60.0"
      ]
     },
     "execution_count": 15,
     "metadata": {},
     "output_type": "execute_result"
    }
   ],
   "source": [
    "xi_m_ = self.xi_m_[0,4]\n",
    "xi_m_"
   ]
  },
  {
   "cell_type": "code",
   "execution_count": null,
   "metadata": {},
   "outputs": [],
   "source": []
  },
  {
   "cell_type": "code",
   "execution_count": 16,
   "metadata": {},
   "outputs": [],
   "source": [
    "from scipy import integrate"
   ]
  },
  {
   "cell_type": "code",
   "execution_count": 17,
   "metadata": {},
   "outputs": [],
   "source": [
    "def NN(x,a,b,m,m_):\n",
    "    return ( ((x-a)**3*((x-a)>=0) - (x-m)**3*((x-m)>=0))/(m-a) - ((x-m_)**3*((x-m_)>=0) - (x-m)**3*((x-m)>=0))/(m-m_) ) * \\\n",
    "    ( ((x-b)**3*((x-b)>=0) - (x-m)**3*((x-m)>=0))/(m-b) - ((x-m_)**3*((x-m_)>=0) - (x-m)**3*((x-m)>=0))/(m-m_) )"
   ]
  },
  {
   "cell_type": "code",
   "execution_count": 18,
   "metadata": {},
   "outputs": [
    {
     "data": {
      "text/plain": [
       "117614214.4586369"
      ]
     },
     "execution_count": 18,
     "metadata": {},
     "output_type": "execute_result"
    }
   ],
   "source": [
    "integrate.quad(lambda x: NN(x,a,b,m,m_), l, u)[0]"
   ]
  },
  {
   "cell_type": "code",
   "execution_count": 19,
   "metadata": {
    "scrolled": false
   },
   "outputs": [
    {
     "data": {
      "text/plain": [
       "117614214.48116888"
      ]
     },
     "execution_count": 19,
     "metadata": {},
     "output_type": "execute_result"
    }
   ],
   "source": [
    "self.Omega3()[0,6,12]"
   ]
  },
  {
   "cell_type": "code",
   "execution_count": 20,
   "metadata": {},
   "outputs": [],
   "source": [
    "def N1N1(x,a,b,m,m_):\n",
    "    return 9 * ( ((x-a)**2*((x-a)>=0) - (x-m)**2*((x-m)>=0))/(m-a) - ((x-m_)**2*((x-m_)>=0) - (x-m)**2*((x-m)>=0))/(m-m_) ) * \\\n",
    "    ( ((x-b)**2*((x-b)>=0) - (x-m)**2*((x-m)>=0))/(m-b) - ((x-m_)**2*((x-m_)>=0) - (x-m)**2*((x-m)>=0))/(m-m_) )"
   ]
  },
  {
   "cell_type": "code",
   "execution_count": 21,
   "metadata": {},
   "outputs": [
    {
     "data": {
      "text/plain": [
       "314700.7607444807"
      ]
     },
     "execution_count": 21,
     "metadata": {},
     "output_type": "execute_result"
    }
   ],
   "source": [
    "integrate.quad(lambda x: N1N1(x,a,b,m,m_), l, u)[0]"
   ]
  },
  {
   "cell_type": "code",
   "execution_count": 22,
   "metadata": {},
   "outputs": [
    {
     "data": {
      "text/plain": [
       "314700.76067796606"
      ]
     },
     "execution_count": 22,
     "metadata": {},
     "output_type": "execute_result"
    }
   ],
   "source": [
    "self.Omega2()[0,6,12]"
   ]
  },
  {
   "cell_type": "code",
   "execution_count": 23,
   "metadata": {},
   "outputs": [],
   "source": [
    "def N2N2(x,a,b,m,m_):\n",
    "    return 36 * ( ((x-a)*((x-a)>=0) - (x-m)*((x-m)>=0))/(m-a) - ((x-m_)*((x-m_)>=0) - (x-m)*((x-m)>=0))/(m-m_) ) * \\\n",
    "    ( ((x-b)*((x-b)>=0) - (x-m)*((x-m)>=0))/(m-b) - ((x-m_)*((x-m_)>=0) - (x-m)*((x-m)>=0))/(m-m_) )"
   ]
  },
  {
   "cell_type": "code",
   "execution_count": 24,
   "metadata": {},
   "outputs": [
    {
     "data": {
      "text/plain": [
       "338.27796612593585"
      ]
     },
     "execution_count": 24,
     "metadata": {},
     "output_type": "execute_result"
    }
   ],
   "source": [
    "integrate.quad(lambda x: N2N2(x,a,b,m,m_), l, u)[0]"
   ]
  },
  {
   "cell_type": "code",
   "execution_count": 25,
   "metadata": {
    "scrolled": true
   },
   "outputs": [
    {
     "data": {
      "text/plain": [
       "338.2779661016919"
      ]
     },
     "execution_count": 25,
     "metadata": {},
     "output_type": "execute_result"
    }
   ],
   "source": [
    "self.Omega()[0,6,12]"
   ]
  },
  {
   "cell_type": "code",
   "execution_count": 26,
   "metadata": {
    "scrolled": true
   },
   "outputs": [
    {
     "data": {
      "text/plain": [
       "181801490.79999995"
      ]
     },
     "execution_count": 26,
     "metadata": {},
     "output_type": "execute_result"
    }
   ],
   "source": [
    "self.integral_of_product2(lower_limit=l,upper_limit=u,a=a,b=b)"
   ]
  },
  {
   "cell_type": "code",
   "execution_count": 27,
   "metadata": {},
   "outputs": [],
   "source": [
    "def product2(x,a,b):\n",
    "    return (((x-a)**2)*((x-a)>=0) * ((x-b)**2)*((x-b)>=0))"
   ]
  },
  {
   "cell_type": "code",
   "execution_count": 28,
   "metadata": {},
   "outputs": [
    {
     "data": {
      "text/plain": [
       "181801490.79991597"
      ]
     },
     "execution_count": 28,
     "metadata": {},
     "output_type": "execute_result"
    }
   ],
   "source": [
    "integrate.quad(lambda x: product2(x,a,b), l, u)[0]"
   ]
  },
  {
   "cell_type": "code",
   "execution_count": 29,
   "metadata": {},
   "outputs": [],
   "source": [
    "def XN(x, l, u, xi_j2, xi_m, xi_m_):\n",
    "    return x*( ((x-xi_j2)**3*((x-xi_j2)>=0) - (x-xi_m)**3*((x-xi_m)>=0))/(xi_m-a) - ((x-xi_m_)**3*((x-xi_m_)>=0) - (x-m)**3*((x-m)>=0))/(xi_m-xi_m_) )"
   ]
  },
  {
   "cell_type": "code",
   "execution_count": 30,
   "metadata": {},
   "outputs": [
    {
     "data": {
      "text/plain": [
       "4447968.75"
      ]
     },
     "execution_count": 30,
     "metadata": {},
     "output_type": "execute_result"
    }
   ],
   "source": [
    "self.integral_of_XN(l, u, xi_j2, xi_m, xi_m_)"
   ]
  },
  {
   "cell_type": "code",
   "execution_count": 31,
   "metadata": {},
   "outputs": [
    {
     "data": {
      "text/plain": [
       "4447968.749737651"
      ]
     },
     "execution_count": 31,
     "metadata": {},
     "output_type": "execute_result"
    }
   ],
   "source": [
    "integrate.quad(lambda x: XN(x, l, u, xi_j2, xi_m, xi_m_), l, u)[0]"
   ]
  },
  {
   "cell_type": "code",
   "execution_count": 32,
   "metadata": {},
   "outputs": [],
   "source": [
    "def N(x, l, u, xi_j2, xi_m, xi_m_):\n",
    "    return ( ((x-xi_j2)**3*((x-xi_j2)>=0) - (x-xi_m)**3*((x-xi_m)>=0))/(xi_m-a) - ((x-xi_m_)**3*((x-xi_m_)>=0) - (x-m)**3*((x-m)>=0))/(xi_m-xi_m_) )"
   ]
  },
  {
   "cell_type": "code",
   "execution_count": 33,
   "metadata": {},
   "outputs": [
    {
     "data": {
      "text/plain": [
       "66656.25"
      ]
     },
     "execution_count": 33,
     "metadata": {},
     "output_type": "execute_result"
    }
   ],
   "source": [
    "self.integral_of_N(l, u, xi_j2, xi_m, xi_m_)"
   ]
  },
  {
   "cell_type": "code",
   "execution_count": 34,
   "metadata": {},
   "outputs": [
    {
     "data": {
      "text/plain": [
       "66656.24999555765"
      ]
     },
     "execution_count": 34,
     "metadata": {},
     "output_type": "execute_result"
    }
   ],
   "source": [
    "integrate.quad(lambda x: N(x, l, u, xi_j2, xi_m, xi_m_), l, u)[0]"
   ]
  },
  {
   "cell_type": "code",
   "execution_count": 35,
   "metadata": {},
   "outputs": [],
   "source": [
    "def N1(x, l, u, xi_j2, xi_m, xi_m_):\n",
    "    return 3*( ((x-xi_j2)**2*((x-xi_j2)>=0) - (x-xi_m)**2*((x-xi_m)>=0))/(xi_m-xi_j2) - ((x-xi_m_)**2*((x-xi_m_)>=0) - (x-m)**2*((x-m)>=0))/(xi_m-xi_m_) )"
   ]
  },
  {
   "cell_type": "code",
   "execution_count": 36,
   "metadata": {},
   "outputs": [
    {
     "data": {
      "text/plain": [
       "3825.0"
      ]
     },
     "execution_count": 36,
     "metadata": {},
     "output_type": "execute_result"
    }
   ],
   "source": [
    "self.integral_of_N1(l, u, xi_j2, xi_m, xi_m_)"
   ]
  },
  {
   "cell_type": "code",
   "execution_count": 37,
   "metadata": {
    "scrolled": true
   },
   "outputs": [
    {
     "data": {
      "text/plain": [
       "3825.0000002371135"
      ]
     },
     "execution_count": 37,
     "metadata": {},
     "output_type": "execute_result"
    }
   ],
   "source": [
    "integrate.quad(lambda x: N1(x, l, u, xi_j2, xi_m, xi_m_), l, u)[0]"
   ]
  },
  {
   "cell_type": "code",
   "execution_count": null,
   "metadata": {},
   "outputs": [],
   "source": []
  }
 ],
 "metadata": {
  "kernelspec": {
   "display_name": "Python 3",
   "language": "python",
   "name": "python3"
  },
  "language_info": {
   "codemirror_mode": {
    "name": "ipython",
    "version": 3
   },
   "file_extension": ".py",
   "mimetype": "text/x-python",
   "name": "python",
   "nbconvert_exporter": "python",
   "pygments_lexer": "ipython3",
   "version": "3.7.3"
  }
 },
 "nbformat": 4,
 "nbformat_minor": 2
}
