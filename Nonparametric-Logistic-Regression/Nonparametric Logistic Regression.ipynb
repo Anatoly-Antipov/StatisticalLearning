{
 "cells": [
  {
   "cell_type": "code",
   "execution_count": 1,
   "metadata": {},
   "outputs": [],
   "source": [
    "import numpy as np\n",
    "import matplotlib.pyplot as plt\n",
    "import random\n",
    "import copy\n",
    "\n",
    "from NonparametricLogisticRegression import NonparametricLogisticRegression\n",
    "from Splines import Splines\n",
    "\n",
    "from sklearn.linear_model import LogisticRegression, Ridge, Lasso\n",
    "import warnings"
   ]
  },
  {
   "cell_type": "code",
   "execution_count": 2,
   "metadata": {},
   "outputs": [],
   "source": [
    "X = np.linspace(1,10,20)"
   ]
  },
  {
   "cell_type": "code",
   "execution_count": 3,
   "metadata": {},
   "outputs": [],
   "source": [
    "y = np.array([1,1,1,0,0,0,1,1,1,1,1,1,1,1,0,0,0,1,1,1])"
   ]
  },
  {
   "cell_type": "markdown",
   "metadata": {},
   "source": [
    "### Simple Logistic Regression + Splines and Regularization"
   ]
  },
  {
   "cell_type": "code",
   "execution_count": 4,
   "metadata": {},
   "outputs": [],
   "source": [
    "# basis functions from splines\n",
    "X = Splines(knots=X).N(knots=X)"
   ]
  },
  {
   "cell_type": "code",
   "execution_count": 5,
   "metadata": {
    "scrolled": false
   },
   "outputs": [],
   "source": [
    "# model = NonparametricLogisticRegression(l=100,alpha=0.01,iters=1200)\n",
    "model = LogisticRegression()\n",
    "\n",
    "try:\n",
    "    # with splines\n",
    "    model.fit(X,y)\n",
    "except:\n",
    "    # without splines\n",
    "    model.fit(X.reshape(-1,1),y)"
   ]
  },
  {
   "cell_type": "code",
   "execution_count": 6,
   "metadata": {},
   "outputs": [
    {
     "data": {
      "text/plain": [
       "array([[ 1.39024749e-06, -3.78987322e-01, -4.21974768e-01,\n",
       "        -2.41233612e-01, -5.19962100e-03,  2.40286780e-01,\n",
       "         4.17967260e-01,  4.70777438e-01,  3.88407401e-01,\n",
       "         2.13268080e-01, -8.74703771e-03, -2.39370991e-01,\n",
       "        -4.43947524e-01, -5.88503889e-01, -6.39347629e-01,\n",
       "        -5.69704762e-01, -3.89032383e-01, -1.85359758e-01,\n",
       "        -4.31860978e-02, -3.08485319e-03]])"
      ]
     },
     "execution_count": 6,
     "metadata": {},
     "output_type": "execute_result"
    }
   ],
   "source": [
    "model.coef_"
   ]
  },
  {
   "cell_type": "code",
   "execution_count": 7,
   "metadata": {},
   "outputs": [
    {
     "data": {
      "image/png": "[encoded data removed]",
      "text/plain": [
       "<Figure size 432x288 with 1 Axes>"
      ]
     },
     "metadata": {
      "needs_background": "light"
     },
     "output_type": "display_data"
    }
   ],
   "source": [
    "# plt.scatter(X,y)\n",
    "try:\n",
    "    # with splines\n",
    "    plt.plot(model.predict_proba(X)[:,1], color='red')\n",
    "except:\n",
    "    # without splines\n",
    "    plt.plot(model.predict_proba(X.reshape(-1,1))[:,1], color='red')\n",
    "plt.scatter(np.arange(len(y)),y)\n",
    "plt.title('Logistic regression with splines')\n",
    "plt.show()"
   ]
  },
  {
   "cell_type": "code",
   "execution_count": null,
   "metadata": {},
   "outputs": [],
   "source": []
  },
  {
   "cell_type": "markdown",
   "metadata": {},
   "source": [
    "### Nonparametric Logistic Regression"
   ]
  },
  {
   "cell_type": "code",
   "execution_count": 14,
   "metadata": {},
   "outputs": [],
   "source": [
    "X = np.linspace(1,10,20)\n",
    "# X = np.vstack([X+5,X+7,X+21,X,X,X,X,X,X,X,X,X,X,X+1,X,X,X,X,X,X,X]).T"
   ]
  },
  {
   "cell_type": "code",
   "execution_count": 15,
   "metadata": {},
   "outputs": [],
   "source": [
    "y = np.array([1,1,1,0,0,0,1,1,1,1,1,1,1,1,0,0,0,1,1,1])"
   ]
  },
  {
   "cell_type": "code",
   "execution_count": 16,
   "metadata": {
    "scrolled": false
   },
   "outputs": [
    {
     "data": {
      "application/vnd.jupyter.widget-view+json": {
       "model_id": "1903665a911645a4b7741dac3a7d9a6f",
       "version_major": 2,
       "version_minor": 0
      },
      "text/plain": [
       "HBox(children=(IntProgress(value=0, max=1200), HTML(value='')))"
      ]
     },
     "metadata": {},
     "output_type": "display_data"
    },
    {
     "name": "stdout",
     "output_type": "stream",
     "text": [
      "\n"
     ]
    }
   ],
   "source": [
    "# model = NonparametricLogisticRegression(l=100,alpha=0.01,iters=1200)\n",
    "model = NonparametricLogisticRegression(l=0.1)\n",
    "\n",
    "# with splines\n",
    "model.fit(X,y)"
   ]
  },
  {
   "cell_type": "code",
   "execution_count": 12,
   "metadata": {},
   "outputs": [
    {
     "data": {
      "image/png": "[encoded data removed]",
      "text/plain": [
       "<Figure size 432x288 with 1 Axes>"
      ]
     },
     "metadata": {
      "needs_background": "light"
     },
     "output_type": "display_data"
    }
   ],
   "source": [
    "plt.plot(model.predict(X), color='red')\n",
    "\n",
    "plt.scatter(np.arange(len(y)),y)\n",
    "plt.title('Regularized logistic regression with splines, l = 0.1')\n",
    "plt.show()"
   ]
  },
  {
   "cell_type": "code",
   "execution_count": 17,
   "metadata": {},
   "outputs": [
    {
     "data": {
      "application/vnd.jupyter.widget-view+json": {
       "model_id": "24016ddc068d42c88260d70f1382d3a5",
       "version_major": 2,
       "version_minor": 0
      },
      "text/plain": [
       "HBox(children=(IntProgress(value=0, max=1200), HTML(value='')))"
      ]
     },
     "metadata": {},
     "output_type": "display_data"
    },
    {
     "name": "stdout",
     "output_type": "stream",
     "text": [
      "\n"
     ]
    }
   ],
   "source": [
    "# model = NonparametricLogisticRegression(l=100,alpha=0.01,iters=1200)\n",
    "model = NonparametricLogisticRegression(l=1)\n",
    "\n",
    "# with splines\n",
    "model.fit(X,y)"
   ]
  },
  {
   "cell_type": "code",
   "execution_count": 18,
   "metadata": {},
   "outputs": [
    {
     "data": {
      "image/png": "[encoded data removed]",
      "text/plain": [
       "<Figure size 432x288 with 1 Axes>"
      ]
     },
     "metadata": {
      "needs_background": "light"
     },
     "output_type": "display_data"
    }
   ],
   "source": [
    "plt.plot(model.predict(X), color='red')\n",
    "\n",
    "plt.scatter(np.arange(len(y)),y)\n",
    "plt.title('Regularized logistic regression with splines, l = 1')\n",
    "plt.show()"
   ]
  },
  {
   "cell_type": "code",
   "execution_count": null,
   "metadata": {},
   "outputs": [],
   "source": []
  },
  {
   "cell_type": "markdown",
   "metadata": {},
   "source": [
    "### LogisticGAM"
   ]
  },
  {
   "cell_type": "code",
   "execution_count": 6,
   "metadata": {},
   "outputs": [],
   "source": [
    "from pygam import LogisticGAM"
   ]
  },
  {
   "cell_type": "code",
   "execution_count": 33,
   "metadata": {},
   "outputs": [],
   "source": [
    "X = np.linspace(1,10,20)\n",
    "# X = np.vstack([X+5,X+7,X+21,X,X,X,X,X,X,X,X,X,X,X+1,X,X,X,X,X,X,X]).T"
   ]
  },
  {
   "cell_type": "code",
   "execution_count": 34,
   "metadata": {},
   "outputs": [],
   "source": [
    "y = np.array([1,1,1,0,0,0,1,1,1,1,1,1,1,1,0,0,0,1,1,1])"
   ]
  },
  {
   "cell_type": "code",
   "execution_count": 35,
   "metadata": {},
   "outputs": [],
   "source": [
    "gam = LogisticGAM(lam=1.5).fit(X, y)"
   ]
  },
  {
   "cell_type": "code",
   "execution_count": 39,
   "metadata": {},
   "outputs": [
    {
     "data": {
      "image/png": "[encoded data removed]",
      "text/plain": [
       "<Figure size 432x288 with 1 Axes>"
      ]
     },
     "metadata": {
      "needs_background": "light"
     },
     "output_type": "display_data"
    }
   ],
   "source": [
    "plt.plot(X,gam.predict_proba(X))\n",
    "\n",
    "plt.scatter(X,y)\n",
    "plt.show()"
   ]
  },
  {
   "cell_type": "code",
   "execution_count": null,
   "metadata": {},
   "outputs": [],
   "source": []
  },
  {
   "cell_type": "code",
   "execution_count": 16,
   "metadata": {
    "scrolled": false
   },
   "outputs": [
    {
     "data": {
      "application/vnd.jupyter.widget-view+json": {
       "model_id": "316acb922e2d47679d2278b85fa18f7d",
       "version_major": 2,
       "version_minor": 0
      },
      "text/plain": [
       "HBox(children=(IntProgress(value=0, max=1200), HTML(value='')))"
      ]
     },
     "metadata": {},
     "output_type": "display_data"
    },
    {
     "name": "stdout",
     "output_type": "stream",
     "text": [
      "\n"
     ]
    }
   ],
   "source": [
    "# model = NonparametricLogisticRegression(l=100,alpha=0.01,iters=1200)\n",
    "model = NonparametricLogisticRegression(l=0.1)\n",
    "\n",
    "# with splines\n",
    "model.fit(X,y)"
   ]
  },
  {
   "cell_type": "code",
   "execution_count": 17,
   "metadata": {},
   "outputs": [
    {
     "data": {
      "text/plain": [
       "array([[ 6.14482878],\n",
       "       [-2.84720191],\n",
       "       [-2.75837714],\n",
       "       [-3.6464557 ],\n",
       "       [ 4.55342748],\n",
       "       [ 3.53597969],\n",
       "       [ 4.26467913],\n",
       "       [-3.21857399],\n",
       "       [-1.34795422],\n",
       "       [-0.64351153],\n",
       "       [-0.45073791],\n",
       "       [-0.50239105],\n",
       "       [-0.8427921 ],\n",
       "       [-1.69030714],\n",
       "       [ 1.40689053],\n",
       "       [ 0.58506161],\n",
       "       [ 0.59352322],\n",
       "       [ 0.27212776]])"
      ]
     },
     "execution_count": 17,
     "metadata": {},
     "output_type": "execute_result"
    }
   ],
   "source": [
    "model.theta"
   ]
  },
  {
   "cell_type": "code",
   "execution_count": 18,
   "metadata": {},
   "outputs": [
    {
     "data": {
      "image/png": "[encoded data removed]",
      "text/plain": [
       "<Figure size 432x288 with 1 Axes>"
      ]
     },
     "metadata": {
      "needs_background": "light"
     },
     "output_type": "display_data"
    }
   ],
   "source": [
    "plt.plot(model.predict(X), color='red')\n",
    "\n",
    "plt.scatter(np.arange(len(y)),y)\n",
    "plt.show()"
   ]
  },
  {
   "cell_type": "code",
   "execution_count": null,
   "metadata": {},
   "outputs": [],
   "source": []
  }
 ],
 "metadata": {
  "kernelspec": {
   "display_name": "Python 3",
   "language": "python",
   "name": "python3"
  },
  "language_info": {
   "codemirror_mode": {
    "name": "ipython",
    "version": 3
   },
   "file_extension": ".py",
   "mimetype": "text/x-python",
   "name": "python",
   "nbconvert_exporter": "python",
   "pygments_lexer": "ipython3",
   "version": "3.7.3"
  }
 },
 "nbformat": 4,
 "nbformat_minor": 2
}
